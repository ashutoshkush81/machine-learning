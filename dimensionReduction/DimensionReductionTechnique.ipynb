{
 "cells": [
  {
   "cell_type": "markdown",
   "metadata": {
    "collapsed": true,
    "pycharm": {
     "name": "#%% md\n"
    }
   },
   "source": [
    "### *Rescaling*\n",
    "Rescaling a vector means to add or subtract a constant and then multiply\n",
    "or divide by a constant, as you would do to change the units of measurement\n",
    "of the data, for example, to convert a temperature from Celsius to\n",
    "Fahrenheit.\n",
    "***\n",
    "\n",
    "### Normalizing\n",
    "Normalizing a vector most often means dividing by a norm of the vector.\n",
    "It also often refers to rescaling by the minimum and range of the vector,\n",
    "to make all the elements lie between 0 and 1 thus bringing all the values\n",
    "of numeric columns in the dataset to a common scale.\n",
    "***For machine learning, every dataset does not require normalization.\n",
    "It is required only when features have different ranges.***\n",
    "\n",
    "A Min-Max scaling/Normalizing is typically done via the following equation:\n",
    "$X_{norm} = {(X-X_{min})/(X_{max}-X_{min})}$\n",
    "\n",
    "***\n",
    "\n",
    "\n",
    "### Standardizing\n",
    "Standardizing a vector most often means subtracting a measure of location\n",
    "and dividing by a measure of scale. For example, if the vector contains\n",
    "random values with a Gaussian distribution, you might subtract the mean\n",
    "and divide by the standard deviation, thereby obtaining a “standard\n",
    "normal” random variable with mean 0 and standard deviation 1.\n",
    "\n",
    "***\n",
    "\n",
    "## Code for Normalization"
   ]
  },
  {
   "cell_type": "code",
   "execution_count": 25,
   "outputs": [
    {
     "name": "stdout",
     "output_type": "stream",
     "text": [
      "   SepalLengthCm  SepalWidthCm  PetalLengthCm  PetalWidthCm\n",
      "0            5.1           3.5            1.4           0.2\n",
      "1            4.9           3.0            1.4           0.2\n",
      "2            4.7           3.2            1.3           0.2\n",
      "3            4.6           3.1            1.5           0.2\n",
      "4            5.0           3.6            1.4           0.2\n",
      "       SepalLengthCm  SepalWidthCm  PetalLengthCm  PetalWidthCm\n",
      "count     150.000000    150.000000     150.000000    150.000000\n",
      "mean        5.843333      3.054000       3.758667      1.198667\n",
      "std         0.828066      0.433594       1.764420      0.763161\n",
      "min         4.300000      2.000000       1.000000      0.100000\n",
      "25%         5.100000      2.800000       1.600000      0.300000\n",
      "50%         5.800000      3.000000       4.350000      1.300000\n",
      "75%         6.400000      3.300000       5.100000      1.800000\n",
      "max         7.900000      4.400000       6.900000      2.500000\n",
      "                0           1           2           3\n",
      "count  150.000000  150.000000  150.000000  150.000000\n",
      "mean     0.428704    0.439167    0.467571    0.457778\n",
      "std      0.230018    0.180664    0.299054    0.317984\n",
      "min      0.000000    0.000000    0.000000    0.000000\n",
      "25%      0.222222    0.333333    0.101695    0.083333\n",
      "50%      0.416667    0.416667    0.567797    0.500000\n",
      "75%      0.583333    0.541667    0.694915    0.708333\n",
      "max      1.000000    1.000000    1.000000    1.000000\n"
     ]
    },
    {
     "data": {
      "text/plain": "<Figure size 432x288 with 1 Axes>",
      "image/png": "[encoded data removed]"
     },
     "metadata": {
      "needs_background": "light"
     },
     "output_type": "display_data"
    }
   ],
   "source": [
    "import numpy as np\n",
    "import pandas as pd\n",
    "import seaborn as sns\n",
    "import matplotlib.pylab as plt\n",
    "columns = ['SepalLengthCm', 'SepalWidthCm', 'PetalLengthCm', 'PetalWidthCm']\n",
    "df = pd.read_csv('Iris.csv',usecols=columns)\n",
    "print(df.head())\n",
    "print(df.describe())\n",
    "# As we can see the maximum and minimum value is not in between 0 to 1.\n",
    "# Now we will do the column normalization\n",
    "# For this we will use the use sklearn.preprocessing\n",
    "from sklearn.preprocessing import MinMaxScaler\n",
    "scaler = MinMaxScaler()\n",
    "\n",
    "data_scaled = scaler.fit_transform(df)\n",
    "data_scaled_df = pd.DataFrame(data_scaled)\n",
    "sns.distplot(data_scaled_df,bins=20,hist=True,kde=True)\n",
    "plt.show()\n",
    "print(data_scaled_df.describe())\n"
   ],
   "metadata": {
    "collapsed": false,
    "pycharm": {
     "name": "#%%\n"
    }
   }
  },
  {
   "cell_type": "markdown",
   "source": [
    "As we can see from above example min and maximum value is in-between 0 to 1.\n",
    "But still mean is not equal to  and std is not equal to 1.\n",
    "\n",
    "***\n",
    "## Code for Standardization"
   ],
   "metadata": {
    "collapsed": false,
    "pycharm": {
     "name": "#%% md\n"
    }
   }
  },
  {
   "cell_type": "code",
   "execution_count": 26,
   "outputs": [
    {
     "name": "stdout",
     "output_type": "stream",
     "text": [
      "   SepalLengthCm  SepalWidthCm  PetalLengthCm  PetalWidthCm\n",
      "0            5.1           3.5            1.4           0.2\n",
      "1            4.9           3.0            1.4           0.2\n",
      "2            4.7           3.2            1.3           0.2\n",
      "3            4.6           3.1            1.5           0.2\n",
      "4            5.0           3.6            1.4           0.2\n",
      "       SepalLengthCm  SepalWidthCm  PetalLengthCm  PetalWidthCm\n",
      "count     150.000000    150.000000     150.000000    150.000000\n",
      "mean        5.843333      3.054000       3.758667      1.198667\n",
      "std         0.828066      0.433594       1.764420      0.763161\n",
      "min         4.300000      2.000000       1.000000      0.100000\n",
      "25%         5.100000      2.800000       1.600000      0.300000\n",
      "50%         5.800000      3.000000       4.350000      1.300000\n",
      "75%         6.400000      3.300000       5.100000      1.800000\n",
      "max         7.900000      4.400000       6.900000      2.500000\n",
      "                  0             1             2             3\n",
      "count  1.500000e+02  1.500000e+02  1.500000e+02  1.500000e+02\n",
      "mean  -4.736952e-16 -6.631732e-16  3.315866e-16 -2.842171e-16\n",
      "std    1.003350e+00  1.003350e+00  1.003350e+00  1.003350e+00\n",
      "min   -1.870024e+00 -2.438987e+00 -1.568735e+00 -1.444450e+00\n",
      "25%   -9.006812e-01 -5.877635e-01 -1.227541e+00 -1.181504e+00\n",
      "50%   -5.250608e-02 -1.249576e-01  3.362659e-01  1.332259e-01\n",
      "75%    6.745011e-01  5.692513e-01  7.627586e-01  7.905908e-01\n",
      "max    2.492019e+00  3.114684e+00  1.786341e+00  1.710902e+00\n"
     ]
    },
    {
     "data": {
      "text/plain": "<Figure size 432x288 with 1 Axes>",
      "image/png": "[encoded data removed]"
     },
     "metadata": {
      "needs_background": "light"
     },
     "output_type": "display_data"
    }
   ],
   "source": [
    "import numpy as np\n",
    "import pandas as pd\n",
    "import seaborn as sns\n",
    "import matplotlib.pylab as plt\n",
    "columns = ['SepalLengthCm', 'SepalWidthCm', 'PetalLengthCm', 'PetalWidthCm']\n",
    "df = pd.read_csv('Iris.csv',usecols=columns)\n",
    "print(df.head())\n",
    "print(df.describe())\n",
    "# As we can see the maximum and minimum value is not in between 0 to 1.\n",
    "# Now we will do the column normalization\n",
    "# For this we will use the use sklearn.preprocessing\n",
    "from sklearn.preprocessing import StandardScaler\n",
    "scaler = StandardScaler()\n",
    "\n",
    "data_scaled = scaler.fit_transform(df)\n",
    "data_scaled_df = pd.DataFrame(data_scaled)\n",
    "sns.distplot(data_scaled_df,bins=20,hist=True,kde=True)\n",
    "plt.show()\n",
    "print(data_scaled_df.describe())"
   ],
   "metadata": {
    "collapsed": false,
    "pycharm": {
     "name": "#%%\n"
    }
   }
  },
  {
   "cell_type": "markdown",
   "source": [
    "Here we can see that mean is almost equal to zero and std is almost equal to 1.\n",
    "But maximum and minimum  is not lying between 0 and 1.\n",
    "\n",
    "***"
   ],
   "metadata": {
    "collapsed": false,
    "pycharm": {
     "name": "#%% md\n"
    }
   }
  },
  {
   "cell_type": "markdown",
   "source": [
    "## Covariance of data Matrix\n",
    "In probability theory and statistics, a covariance matrix (also known as auto-\n",
    "covariance matrix, dispersion matrix, variance matrix, or variance–covariance\n",
    "matrix) is a square matrix giving the covariance between each pair of elements\n",
    "of a given random vector. In the matrix diagonal there are variances, i.e.,\n",
    "the covariance of each element with itself.\n",
    "\n",
    "\n",
    "This form can be seen as a generalization of the scalar-valued variance to higher\n",
    "dimensions. Remember that for a scalar-valued random variable\n",
    "${\\displaystyle X}$\n",
    "\n",
    "${\\displaystyle \\sigma _{X}^{2}=\\operatorname {var} (X)=\\operatorname {E} [(X-\\operatorname {E} [X])^{2}]=\\operatorname {E} [(X-\\operatorname {E} [X])\\cdot (X-\\operatorname {E} [X])].}$\n",
    "\n",
    "the notation for the cross-covariance matrix between two vectors is\n",
    "\n",
    "${\\displaystyle \\operatorname {cov} (\\mathbf {X} ,\\mathbf {Y} )=\\operatorname {K} _{\\mathbf {X} \\mathbf {Y} }=\\operatorname {E} \\left[(\\mathbf {X} -\\operatorname {E} [\\mathbf {X} ])(\\mathbf {Y} -\\operatorname {E} [\\mathbf {Y} ])^{\\rm {T}}\\right].}$\n",
    "\n",
    "In simple word the covariance of data matrix is :\n",
    "\n",
    "$Cov(X) = dotproduct(X^T,X)$\n",
    "\n",
    "\n",
    "***"
   ],
   "metadata": {
    "collapsed": false,
    "pycharm": {
     "name": "#%% md\n"
    }
   }
  }
 ],
 "metadata": {
  "kernelspec": {
   "display_name": "Python 3",
   "language": "python",
   "name": "python3"
  },
  "language_info": {
   "codemirror_mode": {
    "name": "ipython",
    "version": 2
   },
   "file_extension": ".py",
   "mimetype": "text/x-python",
   "name": "python",
   "nbconvert_exporter": "python",
   "pygments_lexer": "ipython2",
   "version": "2.7.6"
  }
 },
 "nbformat": 4,
 "nbformat_minor": 0
}