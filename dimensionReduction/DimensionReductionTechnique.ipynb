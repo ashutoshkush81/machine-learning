{
 "cells": [
  {
   "cell_type": "markdown",
   "metadata": {
    "collapsed": true,
    "pycharm": {
     "name": "#%% md\n"
    }
   },
   "source": [
    "### *Rescaling*\n",
    "Rescaling a vector means to add or subtract a constant and then multiply\n",
    "or divide by a constant, as you would do to change the units of measurement\n",
    "of the data, for example, to convert a temperature from Celsius to\n",
    "Fahrenheit.\n",
    "***\n",
    "\n",
    "### Normalizing\n",
    "Normalizing a vector most often means dividing by a norm of the vector.\n",
    "It also often refers to rescaling by the minimum and range of the vector,\n",
    "to make all the elements lie between 0 and 1 thus bringing all the values\n",
    "of numeric columns in the dataset to a common scale.\n",
    "***For machine learning, every dataset does not require normalization.\n",
    "It is required only when features have different ranges.***\n",
    "\n",
    "A Min-Max scaling/Normalizing is typically done via the following equation:\n",
    "$X_{norm} = {{(X-X_{min})}{(X_{max}-X_{min})}}$\n",
    "\n",
    "***\n",
    "\n",
    "\n",
    "### Standardizing\n",
    "Standardizing a vector most often means subtracting a measure of location\n",
    "and dividing by a measure of scale. For example, if the vector contains\n",
    "random values with a Gaussian distribution, you might subtract the mean\n",
    "and divide by the standard deviation, thereby obtaining a “standard\n",
    "normal” random variable with mean 0 and standard deviation 1.\n",
    "\n",
    "***\n",
    "\n",
    "## Code for Normalization"
   ]
  },
  {
   "cell_type": "code",
   "execution_count": 1,
   "metadata": {
    "pycharm": {
     "name": "#%%\n"
    }
   },
   "outputs": [
    {
     "name": "stdout",
     "output_type": "stream",
     "text": [
      "   SepalLengthCm  SepalWidthCm  PetalLengthCm  PetalWidthCm\n",
      "0            5.1           3.5            1.4           0.2\n",
      "1            4.9           3.0            1.4           0.2\n",
      "2            4.7           3.2            1.3           0.2\n",
      "3            4.6           3.1            1.5           0.2\n",
      "4            5.0           3.6            1.4           0.2\n",
      "       SepalLengthCm  SepalWidthCm  PetalLengthCm  PetalWidthCm\n",
      "count     150.000000    150.000000     150.000000    150.000000\n",
      "mean        5.843333      3.054000       3.758667      1.198667\n",
      "std         0.828066      0.433594       1.764420      0.763161\n",
      "min         4.300000      2.000000       1.000000      0.100000\n",
      "25%         5.100000      2.800000       1.600000      0.300000\n",
      "50%         5.800000      3.000000       4.350000      1.300000\n",
      "75%         6.400000      3.300000       5.100000      1.800000\n",
      "max         7.900000      4.400000       6.900000      2.500000\n",
      "                0           1           2           3\n",
      "count  150.000000  150.000000  150.000000  150.000000\n",
      "mean     0.428704    0.439167    0.467571    0.457778\n",
      "std      0.230018    0.180664    0.299054    0.317984\n",
      "min      0.000000    0.000000    0.000000    0.000000\n",
      "25%      0.222222    0.333333    0.101695    0.083333\n",
      "50%      0.416667    0.416667    0.567797    0.500000\n",
      "75%      0.583333    0.541667    0.694915    0.708333\n",
      "max      1.000000    1.000000    1.000000    1.000000\n"
     ]
    },
    {
     "data": {
      "text/plain": "<Figure size 432x288 with 1 Axes>",
      "image/png": "[encoded data removed]"
     },
     "metadata": {
      "needs_background": "light"
     },
     "output_type": "display_data"
    }
   ],
   "source": [
    "import numpy as np\n",
    "import pandas as pd\n",
    "import seaborn as sns\n",
    "import matplotlib.pylab as plt\n",
    "columns = ['SepalLengthCm', 'SepalWidthCm', 'PetalLengthCm', 'PetalWidthCm']\n",
    "df = pd.read_csv('Iris.csv',usecols=columns)\n",
    "print(df.head())\n",
    "print(df.describe())\n",
    "# As we can see the maximum and minimum value is not in between 0 to 1.\n",
    "# Now we will do the column normalization\n",
    "# For this we will use the use sklearn.preprocessing\n",
    "from sklearn.preprocessing import MinMaxScaler\n",
    "scaler = MinMaxScaler()\n",
    "\n",
    "data_scaled = scaler.fit_transform(df)\n",
    "data_scaled_df = pd.DataFrame(data_scaled)\n",
    "sns.distplot(data_scaled_df,bins=20,hist=True,kde=True)\n",
    "plt.show()\n",
    "print(data_scaled_df.describe())\n"
   ]
  },
  {
   "cell_type": "markdown",
   "metadata": {
    "pycharm": {
     "name": "#%% md\n"
    }
   },
   "source": [
    "As we can see from above example min and maximum value is in-between 0 to 1.\n",
    "But still mean is not equal to  and std is not equal to 1.\n",
    "\n",
    "***\n",
    "## Code for Standardization"
   ]
  },
  {
   "cell_type": "code",
   "execution_count": 2,
   "metadata": {
    "pycharm": {
     "name": "#%%\n"
    }
   },
   "outputs": [
    {
     "name": "stdout",
     "output_type": "stream",
     "text": [
      "   SepalLengthCm  SepalWidthCm  PetalLengthCm  PetalWidthCm\n",
      "0            5.1           3.5            1.4           0.2\n",
      "1            4.9           3.0            1.4           0.2\n",
      "2            4.7           3.2            1.3           0.2\n",
      "3            4.6           3.1            1.5           0.2\n",
      "4            5.0           3.6            1.4           0.2\n",
      "       SepalLengthCm  SepalWidthCm  PetalLengthCm  PetalWidthCm\n",
      "count     150.000000    150.000000     150.000000    150.000000\n",
      "mean        5.843333      3.054000       3.758667      1.198667\n",
      "std         0.828066      0.433594       1.764420      0.763161\n",
      "min         4.300000      2.000000       1.000000      0.100000\n",
      "25%         5.100000      2.800000       1.600000      0.300000\n",
      "50%         5.800000      3.000000       4.350000      1.300000\n",
      "75%         6.400000      3.300000       5.100000      1.800000\n",
      "max         7.900000      4.400000       6.900000      2.500000\n",
      "                  0             1             2             3\n",
      "count  1.500000e+02  1.500000e+02  1.500000e+02  1.500000e+02\n",
      "mean  -4.736952e-16 -6.631732e-16  3.315866e-16 -2.842171e-16\n",
      "std    1.003350e+00  1.003350e+00  1.003350e+00  1.003350e+00\n",
      "min   -1.870024e+00 -2.438987e+00 -1.568735e+00 -1.444450e+00\n",
      "25%   -9.006812e-01 -5.877635e-01 -1.227541e+00 -1.181504e+00\n",
      "50%   -5.250608e-02 -1.249576e-01  3.362659e-01  1.332259e-01\n",
      "75%    6.745011e-01  5.692513e-01  7.627586e-01  7.905908e-01\n",
      "max    2.492019e+00  3.114684e+00  1.786341e+00  1.710902e+00\n"
     ]
    },
    {
     "data": {
      "text/plain": "<Figure size 432x288 with 1 Axes>",
      "image/png": "[encoded data removed]"
     },
     "metadata": {
      "needs_background": "light"
     },
     "output_type": "display_data"
    }
   ],
   "source": [
    "import numpy as np\n",
    "import pandas as pd\n",
    "import seaborn as sns\n",
    "import matplotlib.pylab as plt\n",
    "columns = ['SepalLengthCm', 'SepalWidthCm', 'PetalLengthCm', 'PetalWidthCm']\n",
    "df = pd.read_csv('Iris.csv',usecols=columns)\n",
    "print(df.head())\n",
    "print(df.describe())\n",
    "# As we can see the maximum and minimum value is not in between 0 to 1.\n",
    "# Now we will do the column normalization\n",
    "# For this we will use the use sklearn.preprocessing\n",
    "from sklearn.preprocessing import StandardScaler\n",
    "scaler = StandardScaler()\n",
    "\n",
    "data_scaled = scaler.fit_transform(df)\n",
    "data_scaled_df = pd.DataFrame(data_scaled)\n",
    "sns.distplot(data_scaled_df,bins=20,hist=True,kde=True)\n",
    "plt.show()\n",
    "print(data_scaled_df.describe())"
   ]
  },
  {
   "cell_type": "markdown",
   "metadata": {
    "pycharm": {
     "name": "#%% md\n"
    }
   },
   "source": [
    "Here we can see that mean is almost equal to zero and std is almost equal to 1.\n",
    "But maximum and minimum  is not lying between 0 and 1.\n",
    "\n",
    "***"
   ]
  },
  {
   "cell_type": "markdown",
   "metadata": {
    "pycharm": {
     "name": "#%% md\n"
    }
   },
   "source": [
    "## Covariance of data Matrix\n",
    "In probability theory and statistics, a covariance matrix (also known as auto-\n",
    "covariance matrix, dispersion matrix, variance matrix, or variance–covariance\n",
    "matrix) is a square matrix giving the covariance between each pair of elements\n",
    "of a given random vector. In the matrix diagonal there are variances, i.e.,\n",
    "the covariance of each element with itself.\n",
    "\n",
    "\n",
    "This form can be seen as a generalization of the scalar-valued variance to higher\n",
    "dimensions. Remember that for a scalar-valued random variable\n",
    "${\\displaystyle X}$\n",
    "\n",
    "${\\displaystyle \\sigma _{X}^{2}=\\operatorname {var} (X)=\\operatorname {E} [(X-\\operatorname {E} [X])^{2}]=\\operatorname {E} [(X-\\operatorname {E} [X])\\cdot (X-\\operatorname {E} [X])].}$\n",
    "\n",
    "the notation for the cross-covariance matrix between two vectors is\n",
    "\n",
    "${\\displaystyle \\operatorname {cov} (\\mathbf {X} ,\\mathbf {Y} )=\\operatorname {K} _{\\mathbf {X} \\mathbf {Y} }=\\operatorname {E} \\left[(\\mathbf {X} -\\operatorname {E} [\\mathbf {X} ])(\\mathbf {Y} -\\operatorname {E} [\\mathbf {Y} ])^{\\rm {T}}\\right].}$\n",
    "\n",
    "In simple word the covariance of data matrix is :\n",
    "\n",
    "$Cov(X) = X.X = X^T*X$\n",
    "\n",
    "***\n",
    "\n",
    "# PCA: Principal Component Analysis\n",
    "\n",
    "reducing the dimension of the feature space is called “dimensionality reduction.”\n",
    "There are many ways to achieve dimensionality reduction, but most of these\n",
    "techniques fall into one of two classes:\n",
    "- Feature Elimination\n",
    "- Feature Extraction\n",
    "\n",
    "<font size=4> Feature elimination </font> is what it sounds like:\n",
    " we reduce the feature space by eliminating features.\n",
    "\n",
    " <font size=4>Feature extraction</font> is a process of dimensionality reduction by which an initial\n",
    " set of raw data is reduced to more manageable groups for processing.\n",
    " A characteristic of these large data sets is a large number of variables\n",
    " that require a lot of computing resources to process.\n",
    "\n",
    "Principal component analysis is a technique for feature extraction.\n",
    "PCA is a statistical technique to extract patterns in a dataset.\n",
    "\n",
    "## How PCA works?\n",
    "To analyse and build new dataset (reduced in dimensions) from original one by PCA, Following steps are used in general:\n",
    "- 1) Get the dataset.\n",
    "- 2) Convert the dataset into columns standardization.\n",
    "- 3) Calculate the covariance matrix of data.\n",
    "- 4)Calculate the eigenvalues and eigenvectors over covariance matrix.\n",
    "- 5)Choose the principal components.\n",
    "- 6)Construct new featured dataset from chosen components.\n",
    "\n",
    "## Step1 : Getting  the dataset:"
   ]
  },
  {
   "cell_type": "code",
   "execution_count": 3,
   "metadata": {
    "pycharm": {
     "name": "#%%\n"
    }
   },
   "outputs": [
    {
     "name": "stdout",
     "output_type": "stream",
     "text": [
      "[[5.1 3.5 1.4 0.2]\n",
      " [4.9 3.  1.4 0.2]\n",
      " [4.7 3.2 1.3 0.2]\n",
      " [4.6 3.1 1.5 0.2]\n",
      " [5.  3.6 1.4 0.2]\n",
      " [5.4 3.9 1.7 0.4]\n",
      " [4.6 3.4 1.4 0.3]\n",
      " [5.  3.4 1.5 0.2]\n",
      " [4.4 2.9 1.4 0.2]\n",
      " [4.9 3.1 1.5 0.1]\n",
      " [5.4 3.7 1.5 0.2]\n",
      " [4.8 3.4 1.6 0.2]\n",
      " [4.8 3.  1.4 0.1]\n",
      " [4.3 3.  1.1 0.1]\n",
      " [5.8 4.  1.2 0.2]\n",
      " [5.7 4.4 1.5 0.4]\n",
      " [5.4 3.9 1.3 0.4]\n",
      " [5.1 3.5 1.4 0.3]\n",
      " [5.7 3.8 1.7 0.3]\n",
      " [5.1 3.8 1.5 0.3]\n",
      " [5.4 3.4 1.7 0.2]\n",
      " [5.1 3.7 1.5 0.4]\n",
      " [4.6 3.6 1.  0.2]\n",
      " [5.1 3.3 1.7 0.5]\n",
      " [4.8 3.4 1.9 0.2]\n",
      " [5.  3.  1.6 0.2]\n",
      " [5.  3.4 1.6 0.4]\n",
      " [5.2 3.5 1.5 0.2]\n",
      " [5.2 3.4 1.4 0.2]\n",
      " [4.7 3.2 1.6 0.2]\n",
      " [4.8 3.1 1.6 0.2]\n",
      " [5.4 3.4 1.5 0.4]\n",
      " [5.2 4.1 1.5 0.1]\n",
      " [5.5 4.2 1.4 0.2]\n",
      " [4.9 3.1 1.5 0.2]\n",
      " [5.  3.2 1.2 0.2]\n",
      " [5.5 3.5 1.3 0.2]\n",
      " [4.9 3.6 1.4 0.1]\n",
      " [4.4 3.  1.3 0.2]\n",
      " [5.1 3.4 1.5 0.2]\n",
      " [5.  3.5 1.3 0.3]\n",
      " [4.5 2.3 1.3 0.3]\n",
      " [4.4 3.2 1.3 0.2]\n",
      " [5.  3.5 1.6 0.6]\n",
      " [5.1 3.8 1.9 0.4]\n",
      " [4.8 3.  1.4 0.3]\n",
      " [5.1 3.8 1.6 0.2]\n",
      " [4.6 3.2 1.4 0.2]\n",
      " [5.3 3.7 1.5 0.2]\n",
      " [5.  3.3 1.4 0.2]\n",
      " [7.  3.2 4.7 1.4]\n",
      " [6.4 3.2 4.5 1.5]\n",
      " [6.9 3.1 4.9 1.5]\n",
      " [5.5 2.3 4.  1.3]\n",
      " [6.5 2.8 4.6 1.5]\n",
      " [5.7 2.8 4.5 1.3]\n",
      " [6.3 3.3 4.7 1.6]\n",
      " [4.9 2.4 3.3 1. ]\n",
      " [6.6 2.9 4.6 1.3]\n",
      " [5.2 2.7 3.9 1.4]\n",
      " [5.  2.  3.5 1. ]\n",
      " [5.9 3.  4.2 1.5]\n",
      " [6.  2.2 4.  1. ]\n",
      " [6.1 2.9 4.7 1.4]\n",
      " [5.6 2.9 3.6 1.3]\n",
      " [6.7 3.1 4.4 1.4]\n",
      " [5.6 3.  4.5 1.5]\n",
      " [5.8 2.7 4.1 1. ]\n",
      " [6.2 2.2 4.5 1.5]\n",
      " [5.6 2.5 3.9 1.1]\n",
      " [5.9 3.2 4.8 1.8]\n",
      " [6.1 2.8 4.  1.3]\n",
      " [6.3 2.5 4.9 1.5]\n",
      " [6.1 2.8 4.7 1.2]\n",
      " [6.4 2.9 4.3 1.3]\n",
      " [6.6 3.  4.4 1.4]\n",
      " [6.8 2.8 4.8 1.4]\n",
      " [6.7 3.  5.  1.7]\n",
      " [6.  2.9 4.5 1.5]\n",
      " [5.7 2.6 3.5 1. ]\n",
      " [5.5 2.4 3.8 1.1]\n",
      " [5.5 2.4 3.7 1. ]\n",
      " [5.8 2.7 3.9 1.2]\n",
      " [6.  2.7 5.1 1.6]\n",
      " [5.4 3.  4.5 1.5]\n",
      " [6.  3.4 4.5 1.6]\n",
      " [6.7 3.1 4.7 1.5]\n",
      " [6.3 2.3 4.4 1.3]\n",
      " [5.6 3.  4.1 1.3]\n",
      " [5.5 2.5 4.  1.3]\n",
      " [5.5 2.6 4.4 1.2]\n",
      " [6.1 3.  4.6 1.4]\n",
      " [5.8 2.6 4.  1.2]\n",
      " [5.  2.3 3.3 1. ]\n",
      " [5.6 2.7 4.2 1.3]\n",
      " [5.7 3.  4.2 1.2]\n",
      " [5.7 2.9 4.2 1.3]\n",
      " [6.2 2.9 4.3 1.3]\n",
      " [5.1 2.5 3.  1.1]\n",
      " [5.7 2.8 4.1 1.3]\n",
      " [6.3 3.3 6.  2.5]\n",
      " [5.8 2.7 5.1 1.9]\n",
      " [7.1 3.  5.9 2.1]\n",
      " [6.3 2.9 5.6 1.8]\n",
      " [6.5 3.  5.8 2.2]\n",
      " [7.6 3.  6.6 2.1]\n",
      " [4.9 2.5 4.5 1.7]\n",
      " [7.3 2.9 6.3 1.8]\n",
      " [6.7 2.5 5.8 1.8]\n",
      " [7.2 3.6 6.1 2.5]\n",
      " [6.5 3.2 5.1 2. ]\n",
      " [6.4 2.7 5.3 1.9]\n",
      " [6.8 3.  5.5 2.1]\n",
      " [5.7 2.5 5.  2. ]\n",
      " [5.8 2.8 5.1 2.4]\n",
      " [6.4 3.2 5.3 2.3]\n",
      " [6.5 3.  5.5 1.8]\n",
      " [7.7 3.8 6.7 2.2]\n",
      " [7.7 2.6 6.9 2.3]\n",
      " [6.  2.2 5.  1.5]\n",
      " [6.9 3.2 5.7 2.3]\n",
      " [5.6 2.8 4.9 2. ]\n",
      " [7.7 2.8 6.7 2. ]\n",
      " [6.3 2.7 4.9 1.8]\n",
      " [6.7 3.3 5.7 2.1]\n",
      " [7.2 3.2 6.  1.8]\n",
      " [6.2 2.8 4.8 1.8]\n",
      " [6.1 3.  4.9 1.8]\n",
      " [6.4 2.8 5.6 2.1]\n",
      " [7.2 3.  5.8 1.6]\n",
      " [7.4 2.8 6.1 1.9]\n",
      " [7.9 3.8 6.4 2. ]\n",
      " [6.4 2.8 5.6 2.2]\n",
      " [6.3 2.8 5.1 1.5]\n",
      " [6.1 2.6 5.6 1.4]\n",
      " [7.7 3.  6.1 2.3]\n",
      " [6.3 3.4 5.6 2.4]\n",
      " [6.4 3.1 5.5 1.8]\n",
      " [6.  3.  4.8 1.8]\n",
      " [6.9 3.1 5.4 2.1]\n",
      " [6.7 3.1 5.6 2.4]\n",
      " [6.9 3.1 5.1 2.3]\n",
      " [5.8 2.7 5.1 1.9]\n",
      " [6.8 3.2 5.9 2.3]\n",
      " [6.7 3.3 5.7 2.5]\n",
      " [6.7 3.  5.2 2.3]\n",
      " [6.3 2.5 5.  1.9]\n",
      " [6.5 3.  5.2 2. ]\n",
      " [6.2 3.4 5.4 2.3]\n",
      " [5.9 3.  5.1 1.8]] [0 0 0 0 0 0 0 0 0 0 0 0 0 0 0 0 0 0 0 0 0 0 0 0 0 0 0 0 0 0 0 0 0 0 0 0 0\n",
      " 0 0 0 0 0 0 0 0 0 0 0 0 0 1 1 1 1 1 1 1 1 1 1 1 1 1 1 1 1 1 1 1 1 1 1 1 1\n",
      " 1 1 1 1 1 1 1 1 1 1 1 1 1 1 1 1 1 1 1 1 1 1 1 1 1 1 2 2 2 2 2 2 2 2 2 2 2\n",
      " 2 2 2 2 2 2 2 2 2 2 2 2 2 2 2 2 2 2 2 2 2 2 2 2 2 2 2 2 2 2 2 2 2 2 2 2 2\n",
      " 2 2] ['sepal length (cm)' 'sepal width (cm)' 'petal length (cm)'\n",
      " 'petal width (cm)'] ['setosa' 'versicolor' 'virginica']\n"
     ]
    }
   ],
   "source": [
    "from sklearn import datasets\n",
    "import numpy as np\n",
    "iris = datasets.load_iris()\n",
    "R = np.array(iris.data)\n",
    "R1 = np.array(iris.target)\n",
    "R2 = np.array(iris.feature_names)\n",
    "R3 = np.array(iris.target_names)\n",
    "print(R,R1,R2,R3)"
   ]
  },
  {
   "cell_type": "markdown",
   "metadata": {
    "pycharm": {
     "name": "#%% md\n"
    }
   },
   "source": [
    "## Step2 : Columns standardization:"
   ]
  },
  {
   "cell_type": "code",
   "execution_count": 4,
   "metadata": {
    "pycharm": {
     "name": "#%%\n"
    }
   },
   "outputs": [
    {
     "name": "stdout",
     "output_type": "stream",
     "text": [
      "mean :  -1.4684549872375404e-15\n",
      "std :  1.0\n"
     ]
    }
   ],
   "source": [
    "from sklearn.preprocessing import StandardScaler\n",
    "scaler = StandardScaler()\n",
    "\n",
    "data_scaled = scaler.fit_transform(R)\n",
    "print(\"mean : \",np.mean(data_scaled))\n",
    "print(\"std : \",np.std(data_scaled))"
   ]
  },
  {
   "cell_type": "markdown",
   "metadata": {
    "pycharm": {
     "name": "#%% md\n"
    }
   },
   "source": [
    "## Step 3 : Calculate the covariance matrix"
   ]
  },
  {
   "cell_type": "code",
   "execution_count": 5,
   "metadata": {
    "pycharm": {
     "name": "#%%\n"
    }
   },
   "outputs": [
    {
     "data": {
      "text/plain": "                   sepal length (cm)  sepal width (cm)  petal length (cm)  \\\nsepal length (cm)           0.685694         -0.042434           1.274315   \nsepal width (cm)           -0.042434          0.189979          -0.329656   \npetal length (cm)           1.274315         -0.329656           3.116278   \npetal width (cm)            0.516271         -0.121639           1.295609   \n\n                   petal width (cm)  \nsepal length (cm)          0.516271  \nsepal width (cm)          -0.121639  \npetal length (cm)          1.295609  \npetal width (cm)           0.581006  ",
      "text/html": "<div>\n<style scoped>\n    .dataframe tbody tr th:only-of-type {\n        vertical-align: middle;\n    }\n\n    .dataframe tbody tr th {\n        vertical-align: top;\n    }\n\n    .dataframe thead th {\n        text-align: right;\n    }\n</style>\n<table border=\"1\" class=\"dataframe\">\n  <thead>\n    <tr style=\"text-align: right;\">\n      <th></th>\n      <th>sepal length (cm)</th>\n      <th>sepal width (cm)</th>\n      <th>petal length (cm)</th>\n      <th>petal width (cm)</th>\n    </tr>\n  </thead>\n  <tbody>\n    <tr>\n      <th>sepal length (cm)</th>\n      <td>0.685694</td>\n      <td>-0.042434</td>\n      <td>1.274315</td>\n      <td>0.516271</td>\n    </tr>\n    <tr>\n      <th>sepal width (cm)</th>\n      <td>-0.042434</td>\n      <td>0.189979</td>\n      <td>-0.329656</td>\n      <td>-0.121639</td>\n    </tr>\n    <tr>\n      <th>petal length (cm)</th>\n      <td>1.274315</td>\n      <td>-0.329656</td>\n      <td>3.116278</td>\n      <td>1.295609</td>\n    </tr>\n    <tr>\n      <th>petal width (cm)</th>\n      <td>0.516271</td>\n      <td>-0.121639</td>\n      <td>1.295609</td>\n      <td>0.581006</td>\n    </tr>\n  </tbody>\n</table>\n</div>"
     },
     "execution_count": 5,
     "metadata": {},
     "output_type": "execute_result"
    }
   ],
   "source": [
    "# easy approach is cov(x,x) = (X.T)*X\n",
    "import pandas as pd\n",
    "# This is not working\n",
    "# cov_R = np.matmul(data_scaled.T,data_scaled)\n",
    "# cov_R = np.dot(data_scaled.T,data_scaled)\n",
    "# cov_R1 = pd.DataFrame(data=cov_R,columns=R2)\n",
    "# cov_R1.index = R2\n",
    "# print(cov_R1)\n",
    "\n",
    "# Don't use the column standardized value.\n",
    "R_cov = np.cov(R, rowvar=False)\n",
    "iris_covmat = pd.DataFrame(data=R_cov, columns=iris.feature_names)\n",
    "iris_covmat.index = iris.feature_names\n",
    "iris_covmat\n"
   ]
  },
  {
   "cell_type": "markdown",
   "metadata": {
    "pycharm": {
     "name": "#%% md\n"
    }
   },
   "source": [
    "## Step 4 : Calculate the eigenvalues and eigenvectors:\n",
    "We will use np.linalg.eigh it will return\n",
    "The eigenvalues in ascending order, each repeated according to its multiplicity."
   ]
  },
  {
   "cell_type": "code",
   "execution_count": 6,
   "metadata": {
    "pycharm": {
     "name": "#%%\n"
    }
   },
   "outputs": [
    {
     "name": "stdout",
     "output_type": "stream",
     "text": [
      "[0.02383509 0.0782095  0.24267075 4.22824171]\n",
      "[[ 0.31548719  0.58202985  0.65658877 -0.36138659]\n",
      " [-0.3197231  -0.59791083  0.73016143  0.08452251]\n",
      " [-0.47983899 -0.07623608 -0.17337266 -0.85667061]\n",
      " [ 0.75365743 -0.54583143 -0.07548102 -0.3582892 ]]\n",
      "[0.02383509 0.0782095  0.24267075 4.22824171]\n",
      "[[ 0.31548719  0.58202985  0.65658877 -0.36138659]\n",
      " [-0.3197231  -0.59791083  0.73016143  0.08452251]\n",
      " [-0.47983899 -0.07623608 -0.17337266 -0.85667061]\n",
      " [ 0.75365743 -0.54583143 -0.07548102 -0.3582892 ]]\n"
     ]
    }
   ],
   "source": [
    "# numpy linear algebra module eig() api\n",
    "# Compute the eigenvalues and eigenvectors of a square array\n",
    "eig_values, eig_vectors = np.linalg.eigh(R_cov)\n",
    "# print values and corresponding vectors\n",
    "# Please note that it is not eigen values of corresponding features names.\n",
    "# It has return eig_values in ascending order\n",
    "# But if you still want to calculate value in corresponding order\n",
    "# use np.linalg.eigh(R_cov)\n",
    "print(eig_values)\n",
    "print(eig_vectors)\n",
    "\n",
    "\n",
    "# Here we will use eig to visualize value clearly\n",
    "eig_values, eig_vectors = np.linalg.eigh(R_cov)\n",
    "print(eig_values)\n",
    "print(eig_vectors)"
   ]
  },
  {
   "cell_type": "markdown",
   "metadata": {
    "pycharm": {
     "name": "#%% md\n"
    }
   },
   "source": [
    "## Step 5 : Choose principal components :"
   ]
  },
  {
   "cell_type": "code",
   "execution_count": 7,
   "metadata": {
    "pycharm": {
     "name": "#%%\n"
    }
   },
   "outputs": [
    {
     "data": {
      "text/plain": "array([[-0.36138659,  0.65658877],\n       [ 0.08452251,  0.73016143],\n       [-0.85667061, -0.17337266],\n       [-0.3582892 , -0.07548102]])"
     },
     "execution_count": 7,
     "metadata": {},
     "output_type": "execute_result"
    }
   ],
   "source": [
    "# pick 2 eigenvectors whose eigenvalues are highest\n",
    "featureVector = eig_vectors[:,-1:-3:-1]\n",
    "featureVector"
   ]
  },
  {
   "cell_type": "markdown",
   "metadata": {
    "pycharm": {
     "name": "#%% md\n"
    }
   },
   "source": [
    "### Note :\n",
    "By dropping some of the components or eigenvalues/eigenvectors we will loose some\n",
    "information. However, since we choose the components having highest values or\n",
    "importance, this loose will be reasonable. By dropping, we will have data in less\n",
    "dimension to work.\n",
    "\n",
    "Let's a dataset has $d$ feature and having eigen-values are $\\lambda_1,\\lambda_2,....,\\lambda_d$\n",
    "such that $\\lambda_1$ >= $\\lambda_2$ >= .... .>=$\\lambda_d$\n",
    "and we have to select n dimension then we will have information :\n",
    "$\\Sigma_{i=1}^{n}\\lambda_i/\\Sigma_{i=1}^{d}\\lambda_i$\n",
    "\n",
    "## Step 6: Build new reduced dataset:"
   ]
  },
  {
   "cell_type": "code",
   "execution_count": 8,
   "metadata": {
    "pycharm": {
     "name": "#%%\n"
    }
   },
   "outputs": [
    {
     "data": {
      "text/plain": "(150, 2)"
     },
     "execution_count": 8,
     "metadata": {},
     "output_type": "execute_result"
    }
   ],
   "source": [
    "featureVector_t = np.transpose(featureVector)\n",
    "\n",
    "# R is the original iris dataset\n",
    "R_t = np.transpose(R)\n",
    "\n",
    "newDataset_t = np.matmul(featureVector_t, R_t)\n",
    "newDataset = np.transpose(newDataset_t)\n",
    "\n",
    "# check the shape of new reduced 2D dataset\n",
    "newDataset.shape"
   ]
  },
  {
   "cell_type": "markdown",
   "metadata": {
    "pycharm": {
     "name": "#%% md\n"
    }
   },
   "source": [
    "## Step 7 : Visualization"
   ]
  },
  {
   "cell_type": "code",
   "execution_count": 9,
   "metadata": {
    "pycharm": {
     "name": "#%%\n"
    }
   },
   "outputs": [
    {
     "data": {
      "text/plain": "<seaborn.axisgrid.FacetGrid at 0x7fd480acd410>"
     },
     "execution_count": 9,
     "metadata": {},
     "output_type": "execute_result"
    },
    {
     "data": {
      "text/plain": "<Figure size 444.75x360 with 1 Axes>",
      "image/png": "[encoded data removed]"
     },
     "metadata": {
      "needs_background": "light"
     },
     "output_type": "display_data"
    }
   ],
   "source": [
    "import seaborn as sns\n",
    "import pandas as pd\n",
    "%matplotlib inline\n",
    "\n",
    "# create new DataFrame\n",
    "df = pd.DataFrame(data=newDataset, columns=['PC1', 'PC2'])\n",
    "y = pd.Series(iris.target)\n",
    "y = y.replace(0, 'setosa')\n",
    "y = y.replace(1, 'versicolor')\n",
    "y = y.replace(2, 'virginica')\n",
    "df['Target'] = y\n",
    "\n",
    "# plot 2D data\n",
    "sns.lmplot(x='PC1', y='PC2', data=df, hue='Target', fit_reg=False, legend=True)\n"
   ]
  },
  {
   "cell_type": "markdown",
   "metadata": {
    "pycharm": {
     "name": "#%% md\n"
    }
   },
   "source": [
    "# Shortcut - PCA in scikit-learn\n",
    "\n",
    "For educational purposes, we went a long way to apply the PCA to the Iris dataset.\n",
    "But luckily, there is already implementation in scikit-learn."
   ]
  },
  {
   "cell_type": "code",
   "execution_count": 10,
   "metadata": {
    "pycharm": {
     "name": "#%%\n"
    }
   },
   "outputs": [],
   "source": [
    "from sklearn.decomposition import PCA as sklearnPCA\n",
    "sklearn_pca = sklearnPCA(n_components=2)\n",
    "# Note here we are using column standardized value.\n",
    "Y_sklearn = sklearn_pca.fit_transform(data_scaled)"
   ]
  },
  {
   "cell_type": "code",
   "execution_count": 11,
   "metadata": {
    "pycharm": {
     "name": "#%%\n"
    }
   },
   "outputs": [
    {
     "data": {
      "text/plain": "<seaborn.axisgrid.FacetGrid at 0x7fd47d643510>"
     },
     "execution_count": 11,
     "metadata": {},
     "output_type": "execute_result"
    },
    {
     "data": {
      "text/plain": "<Figure size 444.75x360 with 1 Axes>",
      "image/png": "[encoded data removed]"
     },
     "metadata": {
      "needs_background": "light"
     },
     "output_type": "display_data"
    }
   ],
   "source": [
    "import seaborn as sns\n",
    "import pandas as pd\n",
    "%matplotlib inline\n",
    "\n",
    "# create new DataFrame\n",
    "df = pd.DataFrame(data=Y_sklearn, columns=['PC1', 'PC2'])\n",
    "y = pd.Series(iris.target)\n",
    "y = y.replace(0, 'setosa')\n",
    "y = y.replace(1, 'versicolor')\n",
    "y = y.replace(2, 'virginica')\n",
    "df['Target'] = y\n",
    "\n",
    "# plot 2D data\n",
    "sns.lmplot(x='PC1', y='PC2', data=df, hue='Target', fit_reg=False, legend=True)\n"
   ]
  },
  {
   "cell_type": "markdown",
   "metadata": {
    "pycharm": {
     "name": "#%% md\n"
    }
   },
   "source": [
    "For information please visit :\n",
    "https://sebastianraschka.com/Articles/2015_pca_in_3_steps.html\n",
    "\n",
    "https://towardsdatascience.com/a-one-stop-shop-for-principal-component-analysis-5582fb7e0a9c\n",
    "\n",
    "https://medium.com/@kyasar.mail/pca-principal-component-analysis-729068e28ec8\n",
    "\n",
    "https://medium.com/@raghavan99o/principal-component-analysis-pca-explained-and-implemented-eeab7cb73b72\n",
    "\n",
    "\n",
    "***\n",
    "\n",
    "# t-Distributed Stochastic Neighbor Embedding(t-SNE)\n",
    "\n",
    "t-Distributed Stochastic Neighbor Embedding (t-SNE) is an unsupervised,\n",
    "non-linear technique primarily used for data exploration and visualizing\n",
    "high-dimensional data. In simpler terms, t-SNE gives you a feel or intuition\n",
    "of how the data is arranged in a high-dimensional space. It was developed by\n",
    "Laurens van der Maatens and Geoffrey Hinton in 2008.\n",
    "\n",
    "## t-SNE vs PCA :\n",
    "t-SNE differs from PCA by preserving only small pairwise distances or local similarities whereas PCA is concerned with preserving large\n",
    "pairwise distances to maximize variance.\n",
    "\n",
    "## How t-SNE works :\n",
    "The t-SNE algorithm calculates a similarity measure between pairs of instances in the high dimensional space and in the low dimensional space.\n",
    "It then tries to optimize these two similarity measures using a cost function.\n",
    "\n",
    "t-SNE has a hyper-parameter called perplexity. Perplexity balances the attention t-SNE gives to local and global aspects of the data and can have large effects on the resulting plot.\n",
    " A few notes on this parameter:\n",
    "\n",
    "- It is roughly a guess of the number of close neighbors each point has. Thus, a denser dataset usually requires a higher perplexity value.\n",
    "- It is recommended to be between 5 and 50.\n",
    "- It should be smaller than the number of data points.\n",
    "- The biggest mistake people make with t-SNE is only using one value for perplexity and not testing how the results change with other values.\n",
    "\n",
    "\n",
    "The following points that we need to be aware of:\n",
    "\n",
    "- We cannot see the relative sizes of clusters in a t-SNE plot.\n",
    "- Distances between well-separated clusters in a t-SNE plot may mean nothing.\n",
    "- Clumps of points — especially with small perplexity values — might just be noise.\n",
    "\n",
    "***\n",
    "\n",
    "# Code for t-SNE\n"
   ]
  },
  {
   "cell_type": "code",
   "execution_count": 27,
   "metadata": {},
   "outputs": [
    {
     "data": {
      "text/plain": "<seaborn.axisgrid.FacetGrid at 0x7fd47572cbd0>"
     },
     "execution_count": 27,
     "metadata": {},
     "output_type": "execute_result"
    },
    {
     "data": {
      "text/plain": "<Figure size 444.75x360 with 1 Axes>",
      "image/png": "[encoded data removed]"
     },
     "metadata": {
      "needs_background": "light"
     },
     "output_type": "display_data"
    }
   ],
   "source": [
    "from sklearn import datasets\n",
    "\n",
    "Iris = datasets.load_iris()\n",
    "\n",
    "# print(Iris.data)\n",
    "# print(Iris.target)\n",
    "# print(Iris.target_names)\n",
    "# print(Iris.feature_names)\n",
    "\n",
    "from sklearn import manifold\n",
    "scaler = manifold.TSNE(n_components=2,perplexity=50,n_iter=2000)\n",
    "embadded_data = scaler.fit_transform(Iris.data)\n",
    "# print(embadded_data)\n",
    "\n",
    "import seaborn as sns\n",
    "import pandas as pd\n",
    "df = pd.DataFrame(data=embadded_data, columns=['PC1', 'PC2'])\n",
    "y = pd.Series(iris.target)\n",
    "y = y.replace(0, 'setosa')\n",
    "y = y.replace(1, 'versicolor')\n",
    "y = y.replace(2, 'virginica')\n",
    "df['Target'] = y\n",
    "\n",
    "# plot 2D data\n",
    "sns.lmplot(x='PC1', y='PC2', data=df, hue='Target', fit_reg=False, legend=True)"
   ]
  },
  {
   "cell_type": "markdown",
   "source": [
    "For more infromation please visit :\n",
    "\n",
    "https://medium.com/@violante.andre/an-introduction-to-t-sne-with-python-example-47e6ae7dc58f\n",
    "\n",
    "https://distill.pub/2016/misread-tsne/\n",
    "\n",
    "https://colah.github.io/posts/2014-10-Visualizing-MNIST/\n",
    "\n",
    "https://scikit-learn.org/stable/modules/generated/sklearn.manifold.TSNE.html\n",
    "\n",
    "\n"
   ],
   "metadata": {
    "collapsed": false,
    "pycharm": {
     "name": "#%% md\n"
    }
   }
  }
 ],
 "metadata": {
  "kernelspec": {
   "display_name": "Python 3",
   "language": "python",
   "name": "python3"
  },
  "language_info": {
   "codemirror_mode": {
    "name": "ipython",
    "version": 3
   },
   "file_extension": ".py",
   "mimetype": "text/x-python",
   "name": "python",
   "nbconvert_exporter": "python",
   "pygments_lexer": "ipython3",
   "version": "3.7.5"
  }
 },
 "nbformat": 4,
 "nbformat_minor": 1
}