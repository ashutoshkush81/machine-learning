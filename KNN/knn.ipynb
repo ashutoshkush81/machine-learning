{
 "cells": [
  {
   "cell_type": "markdown",
   "metadata": {
    "collapsed": true,
    "pycharm": {
     "name": "#%% md\n"
    }
   },
   "source": [
    "# Types of Distances in Machine Learning\n",
    "\n",
    "## 1. Minkowski Distance:\n",
    "Suppose X is a vector space then a norm on X is a real-valued function ||x|| which\n",
    "satisfies below conditions -\n",
    "-  <b>Zero Vector</b> - Zero vector will have zero length.\n",
    "- <b>Scalar Factor </b>- The direction of the vector doesn’t change when you multiply it with a positive number though its length will be changed.\n",
    "-  <b>Triangle Inequality</b> - If the distance is a norm then the calculated distance between two points will always be a straight line.\n",
    "\n",
    "The Minkowski distance is a metric in a normed vector space which can be considered as a generalization of both the Euclidean distance and the Manhattan distance.\n",
    "\n",
    "The Minkowski distance of order $ {\\displaystyle p}  $ (where  ${\\displaystyle p}$  is an integer) between two points\n",
    "\n",
    "${\\displaystyle X=(x_{1},x_{2},\\ldots ,x_{n}){\\text{ and }}Y=(y_{1},y_{2},\\ldots ,y_{n})\\in \\mathbb {R} ^{n}} $\n",
    "\n",
    "is defined as:\n",
    "\n",
    "   ${\\displaystyle D\\left(X,Y\\right)=\\left(\\sum _{i=1}^{n}|x_{i}-y_{i}|^{p}\\right)^{\\frac {1}{p}}} $\n",
    "\n",
    "For $p ≥ 1 $, the Minkowski distance is a metric as a result of the Minkowski inequality. When ${\\displaystyle p<1} $, the distance between (0,0) and (1,1) is ${\\displaystyle 2^{1/p}>2} $, but the point (0,1) is at a distance 1 from both of these points. Since this violates the triangle inequality, for ${\\displaystyle p<1}$ it is not a metric.\n",
    "\n",
    "As mentioned above, we can manipulate the value of p and calculate the distance in three different ways-\n",
    "\n",
    "p = 1, Manhattan Distance(Also known as L1 norm)\n",
    "\n",
    "p = 2, Euclidean Distance(Also known as L2 norm)\n",
    "\n",
    "p = ∞, Chebychev Distance.\n",
    "\n",
    "## 2. Hamming Distance\n",
    "A Hamming distance in information technology represents the number of points at which two corresponding pieces of data can be different. It is often used in various kinds of error correction or evaluation of contrasting strings or pieces of data.\n",
    "\n",
    "## 3. Cosine Similarity and Cosine Distance:\n",
    "\n",
    "There are two terms: Similarity and Distance. They are inversely proportional to each other i.e if one increases the other one decreases and vice-versa. the formula for which is:\n",
    "\n",
    "   1-cos_sin=cos_distance\n",
    "\n",
    "\n",
    "Given two vectors of attributes, A and B, the cosine similarity, cos(θ), is represented using a dot product and magnitude as\n",
    "\n",
    " ${\\displaystyle {\\text{similarity}}=\\cos(\\theta )={\\mathbf {A} \\cdot \\mathbf {B} \\over \\|\\mathbf {A} \\|\\|\\mathbf {B} \\|}={\\frac {\\sum \\limits _{i=1}^{n}{A_{i}B_{i}}}{{\\sqrt {\\sum \\limits _{i=1}^{n}{A_{i}^{2}}}}{\\sqrt {\\sum \\limits _{i=1}^{n}{B_{i}^{2}}}}}},} $\n",
    "\n",
    "where ${\\displaystyle A_{i}}$ and ${\\displaystyle B_{i}}$ are components of vector ${\\displaystyle A}$ and ${\\displaystyle B}$  respectively.\n",
    "\n",
    "\n",
    "Ref. ->https://medium.com/analytics-vidhya/types-of-distances-in-machine-learning-5b1233380775\n"
   ]
  }
 ],
 "metadata": {
  "kernelspec": {
   "display_name": "Python 3",
   "language": "python",
   "name": "python3"
  },
  "language_info": {
   "codemirror_mode": {
    "name": "ipython",
    "version": 2
   },
   "file_extension": ".py",
   "mimetype": "text/x-python",
   "name": "python",
   "nbconvert_exporter": "python",
   "pygments_lexer": "ipython2",
   "version": "2.7.6"
  }
 },
 "nbformat": 4,
 "nbformat_minor": 0
}