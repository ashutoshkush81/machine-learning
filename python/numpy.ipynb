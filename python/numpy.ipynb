{
 "cells": [
  {
   "cell_type": "code",
   "execution_count": 3,
   "metadata": {
    "collapsed": true,
    "pycharm": {
     "is_executing": false
    }
   },
   "outputs": [
    {
     "name": "stdout",
     "text": [
      "226 µs ± 16.1 µs per loop (mean ± std. dev. of 7 runs, 1000 loops each)\n",
      "1.18 µs ± 40.8 ns per loop (mean ± std. dev. of 7 runs, 1000000 loops each)\n"
     ],
     "output_type": "stream"
    }
   ],
   "source": [
    "#How numpy is efficient than normal function in python\n",
    "import numpy as np\n",
    "\n",
    "L = range(1000)\n",
    "\n",
    "%timeit [i**2 for i in L]\n",
    "\n",
    "\n",
    "A = np.arange(1000)\n",
    "\n",
    "%timeit A**2\n"
   ]
  },
  {
   "cell_type": "code",
   "execution_count": 10,
   "outputs": [
    {
     "data": {
      "text/plain": "4"
     },
     "metadata": {},
     "output_type": "execute_result",
     "execution_count": 10
    }
   ],
   "source": [
    "# How to create a array using list in python\n",
    "B = np.array([1,2,3,4])\n",
    "B\n",
    "B.ndim\n",
    "B.shape\n",
    "len(B)\n",
    "#len is return the first attribute of the shape.\n",
    "# 1d array is known as vector.\n",
    "# .2d array is known as matrix.\n",
    "# and multidimensional array is known as tensor .\n",
    "\n"
   ],
   "metadata": {
    "collapsed": false,
    "pycharm": {
     "name": "#%%\n",
     "is_executing": false
    }
   }
  },
  {
   "cell_type": "code",
   "execution_count": 12,
   "outputs": [
    {
     "data": {
      "text/plain": "array([0, 1, 2, 3, 4, 5, 6, 7, 8, 9])"
     },
     "metadata": {},
     "output_type": "execute_result",
     "execution_count": 12
    }
   ],
   "source": [
    "# 1. using arange() function it's required three agr. i-> start,ii->end,iii->step.(ii is comp.)\n",
    "B = np.arange(10)\n",
    "B"
   ],
   "metadata": {
    "collapsed": false,
    "pycharm": {
     "name": "#%%\n",
     "is_executing": false
    }
   }
  },
  {
   "cell_type": "code",
   "execution_count": 14,
   "outputs": [
    {
     "data": {
      "text/plain": "array([1, 4, 7])"
     },
     "metadata": {},
     "output_type": "execute_result",
     "execution_count": 14
    }
   ],
   "source": [
    "B = np.arange(1,10,3)\n",
    "B"
   ],
   "metadata": {
    "collapsed": false,
    "pycharm": {
     "name": "#%%\n",
     "is_executing": false
    }
   }
  },
  {
   "cell_type": "code",
   "execution_count": 18,
   "outputs": [
    {
     "data": {
      "text/plain": "array([10,  7,  4])"
     },
     "metadata": {},
     "output_type": "execute_result",
     "execution_count": 18
    }
   ],
   "source": [
    "B = np.arange(10,1,-3)\n",
    "B\n"
   ],
   "metadata": {
    "collapsed": false,
    "pycharm": {
     "name": "#%%\n",
     "is_executing": false
    }
   }
  },
  {
   "cell_type": "code",
   "execution_count": 20,
   "outputs": [
    {
     "data": {
      "text/plain": "array([[1, 1, 1],\n       [1, 1, 1]])"
     },
     "metadata": {},
     "output_type": "execute_result",
     "execution_count": 20
    }
   ],
   "source": [
    "B = np.ones((2,3),dtype=int) # it's required a tuple\n",
    "B"
   ],
   "metadata": {
    "collapsed": false,
    "pycharm": {
     "name": "#%%\n",
     "is_executing": false
    }
   }
  },
  {
   "cell_type": "code",
   "execution_count": 22,
   "outputs": [
    {
     "data": {
      "text/plain": "array([0., 0., 0.])"
     },
     "metadata": {},
     "output_type": "execute_result",
     "execution_count": 22
    }
   ],
   "source": [
    "B = np.zeros((3,),dtype=float)\n",
    "B"
   ],
   "metadata": {
    "collapsed": false,
    "pycharm": {
     "name": "#%%\n",
     "is_executing": false
    }
   }
  },
  {
   "cell_type": "code",
   "execution_count": 26,
   "outputs": [
    {
     "data": {
      "text/plain": "array([[1., 0.],\n       [0., 1.],\n       [0., 0.],\n       [0., 0.]])"
     },
     "metadata": {},
     "output_type": "execute_result",
     "execution_count": 26
    }
   ],
   "source": [
    "B = np.eye(4,2)\n",
    "B"
   ],
   "metadata": {
    "collapsed": false,
    "pycharm": {
     "name": "#%%\n",
     "is_executing": false
    }
   }
  },
  {
   "cell_type": "code",
   "execution_count": 27,
   "outputs": [
    {
     "data": {
      "text/plain": "array([[1, 0, 0, 0],\n       [0, 2, 0, 0],\n       [0, 0, 3, 0],\n       [0, 0, 0, 5]])"
     },
     "metadata": {},
     "output_type": "execute_result",
     "execution_count": 27
    }
   ],
   "source": [
    "B = np.diag([1,2,3,5])\n",
    "B"
   ],
   "metadata": {
    "collapsed": false,
    "pycharm": {
     "name": "#%%\n",
     "is_executing": false
    }
   }
  },
  {
   "cell_type": "code",
   "execution_count": 33,
   "outputs": [
    {
     "data": {
      "text/plain": "array([1, 2, 3, 5])"
     },
     "metadata": {},
     "output_type": "execute_result",
     "execution_count": 33
    }
   ],
   "source": [
    "B = np.diag(B)\n",
    "B"
   ],
   "metadata": {
    "collapsed": false,
    "pycharm": {
     "name": "#%%\n",
     "is_executing": false
    }
   }
  },
  {
   "cell_type": "code",
   "execution_count": 34,
   "outputs": [
    {
     "data": {
      "text/plain": "array([0.48343519, 0.42197969, 0.93968275, 0.16470924])"
     },
     "metadata": {},
     "output_type": "execute_result",
     "execution_count": 34
    }
   ],
   "source": [
    "B = np.random.rand(4)\n",
    "B"
   ],
   "metadata": {
    "collapsed": false,
    "pycharm": {
     "name": "#%%\n",
     "is_executing": false
    }
   }
  },
  {
   "cell_type": "code",
   "execution_count": 35,
   "outputs": [
    {
     "data": {
      "text/plain": "array([-0.43277004,  0.16631337,  0.54286149, -0.04302521])"
     },
     "metadata": {},
     "output_type": "execute_result",
     "execution_count": 35
    }
   ],
   "source": [
    "B=np.random.randn(4)\n",
    "B"
   ],
   "metadata": {
    "collapsed": false,
    "pycharm": {
     "name": "#%%\n",
     "is_executing": false
    }
   }
  },
  {
   "cell_type": "code",
   "execution_count": 36,
   "outputs": [
    {
     "data": {
      "text/plain": "-0.04302521040377797"
     },
     "metadata": {},
     "output_type": "execute_result",
     "execution_count": 36
    }
   ],
   "source": [
    "# indexing and slicing in python numpy array.\n",
    "B[3]"
   ],
   "metadata": {
    "collapsed": false,
    "pycharm": {
     "name": "#%%\n",
     "is_executing": false
    }
   }
  },
  {
   "cell_type": "code",
   "execution_count": 37,
   "outputs": [
    {
     "data": {
      "text/plain": "array([ 0,  1,  2,  3,  4, 10, 10, 10, 10, 10])"
     },
     "metadata": {},
     "output_type": "execute_result",
     "execution_count": 37
    }
   ],
   "source": [
    "B = np.arange(10)\n",
    "B[5:]=10\n",
    "B"
   ],
   "metadata": {
    "collapsed": false,
    "pycharm": {
     "name": "#%%\n",
     "is_executing": false
    }
   }
  },
  {
   "cell_type": "code",
   "execution_count": 40,
   "outputs": [
    {
     "data": {
      "text/plain": "array([0, 1, 2, 3, 4, 4, 3, 2, 1, 0])"
     },
     "metadata": {},
     "output_type": "execute_result",
     "execution_count": 40
    }
   ],
   "source": [
    "B = np.arange(10)\n",
    "C = np.arange(5)\n",
    "B[5:]=C[::-1]\n",
    "B"
   ],
   "metadata": {
    "collapsed": false,
    "pycharm": {
     "name": "#%%\n",
     "is_executing": false
    }
   }
  },
  {
   "cell_type": "code",
   "execution_count": 41,
   "outputs": [
    {
     "data": {
      "text/plain": "True"
     },
     "metadata": {},
     "output_type": "execute_result",
     "execution_count": 41
    }
   ],
   "source": [
    "# Views and copy in numpy.\n",
    "A = np.arange(10)\n",
    "B = A[::2]\n",
    "np.shares_memory(A,B)"
   ],
   "metadata": {
    "collapsed": false,
    "pycharm": {
     "name": "#%%\n",
     "is_executing": false
    }
   }
  },
  {
   "cell_type": "code",
   "execution_count": 42,
   "outputs": [
    {
     "name": "stdout",
     "text": [
      "[10  1  2  3  4  5  6  7  8  9]\n",
      "[10  2  4  6  8]\n"
     ],
     "output_type": "stream"
    }
   ],
   "source": [
    "# A and B are share the same memory their are making a shallow copy.\n",
    "# if we want to make the copy we need to use the copy function.\n",
    "B[0]=10\n",
    "print(A)\n",
    "print(B)\n",
    "# here i just modified B but it's modified A also."
   ],
   "metadata": {
    "collapsed": false,
    "pycharm": {
     "name": "#%%\n",
     "is_executing": false
    }
   }
  },
  {
   "cell_type": "code",
   "execution_count": 43,
   "outputs": [
    {
     "name": "stdout",
     "text": [
      "[0 1 2 3 4 5 6 7 8 9]\n",
      "[0 2 4 6 8]\n"
     ],
     "output_type": "stream"
    }
   ],
   "source": [
    "A = np.arange(10)\n",
    "B = A[::2].copy()\n",
    "print(A)\n",
    "print(B)"
   ],
   "metadata": {
    "collapsed": false,
    "pycharm": {
     "name": "#%%\n",
     "is_executing": false
    }
   }
  },
  {
   "cell_type": "code",
   "execution_count": 44,
   "outputs": [
    {
     "name": "stdout",
     "text": [
      "[5 1 2 3 4 5 6 7 8 9]\n",
      "[0 2 4 6 8]\n"
     ],
     "output_type": "stream"
    }
   ],
   "source": [
    "A[0] = 5\n",
    "print(A)\n",
    "print(B)"
   ],
   "metadata": {
    "collapsed": false,
    "pycharm": {
     "name": "#%%\n",
     "is_executing": false
    }
   }
  },
  {
   "cell_type": "code",
   "execution_count": 48,
   "outputs": [
    {
     "data": {
      "text/plain": "array([ 8,  6, 17,  5, 11, 14,  7, 15, 15,  9,  4, 10, 12,  6,  2])"
     },
     "metadata": {},
     "output_type": "execute_result",
     "execution_count": 48
    }
   ],
   "source": [
    "# Fancy indexing.\n",
    "# 1. Mask\n",
    "A = np.random.randint(0,20,15)\n",
    "A\n",
    "\n"
   ],
   "metadata": {
    "collapsed": false,
    "pycharm": {
     "name": "#%%\n",
     "is_executing": false
    }
   }
  },
  {
   "cell_type": "code",
   "execution_count": 50,
   "outputs": [
    {
     "name": "stdout",
     "text": [
      "bool\n",
      "[ True  True False False False  True False False False False  True  True\n",
      "  True  True  True]\n",
      "[ 8  6 14  4 10 12  6  2]\n"
     ],
     "output_type": "stream"
    }
   ],
   "source": [
    "mask = (A%2==0) \n",
    "# What is does is it's take all the element of the array A and then \n",
    "# check for every element of array which are satisfied the condition\n",
    "# Ai%2==0 and store the index of it in the mask\n",
    "A[mask]\n",
    "print(mask.dtype)\n",
    "print(mask)\n",
    "print(A[mask])"
   ],
   "metadata": {
    "collapsed": false,
    "pycharm": {
     "name": "#%%\n",
     "is_executing": false
    }
   }
  },
  {
   "cell_type": "code",
   "execution_count": 51,
   "outputs": [
    {
     "data": {
      "text/plain": "array([ 6, 17,  5, 14])"
     },
     "metadata": {},
     "output_type": "execute_result",
     "execution_count": 51
    }
   ],
   "source": [
    "mask = [1,2,3,5]\n",
    "A[mask]"
   ],
   "metadata": {
    "collapsed": false,
    "pycharm": {
     "name": "#%%\n",
     "is_executing": false
    }
   }
  },
  {
   "cell_type": "code",
   "execution_count": 52,
   "outputs": [
    {
     "data": {
      "text/plain": "array([17,  5, 11,  9, 17])"
     },
     "metadata": {},
     "output_type": "execute_result",
     "execution_count": 52
    }
   ],
   "source": [
    "A[[2,3,4,9,2]]"
   ],
   "metadata": {
    "collapsed": false,
    "pycharm": {
     "name": "#%%\n",
     "is_executing": false
    }
   }
  },
  {
   "cell_type": "code",
   "execution_count": 53,
   "outputs": [
    {
     "data": {
      "text/plain": "array([2, 3, 4, 5])"
     },
     "metadata": {},
     "output_type": "execute_result",
     "execution_count": 53
    }
   ],
   "source": [
    "# Operation on numpy arrays\n",
    "\n",
    "A = np.array([1,2,3,4])\n",
    "# adding a scalar number to it\n",
    "A + 1"
   ],
   "metadata": {
    "collapsed": false,
    "pycharm": {
     "name": "#%%\n",
     "is_executing": false
    }
   }
  },
  {
   "cell_type": "code",
   "execution_count": 58,
   "outputs": [
    {
     "data": {
      "text/plain": "array([2, 4, 6, 8])"
     },
     "metadata": {},
     "output_type": "execute_result",
     "execution_count": 58
    }
   ],
   "source": [
    "# Vector addition.\n",
    "A+[1,2,3,4]"
   ],
   "metadata": {
    "collapsed": false,
    "pycharm": {
     "name": "#%%\n",
     "is_executing": false
    }
   }
  },
  {
   "cell_type": "code",
   "execution_count": 59,
   "outputs": [
    {
     "data": {
      "text/plain": "array([ 1,  4,  9, 16])"
     },
     "metadata": {},
     "output_type": "execute_result",
     "execution_count": 59
    }
   ],
   "source": [
    "# Multiplication.\n",
    "A**2"
   ],
   "metadata": {
    "collapsed": false,
    "pycharm": {
     "name": "#%%\n",
     "is_executing": false
    }
   }
  },
  {
   "cell_type": "code",
   "execution_count": 61,
   "outputs": [
    {
     "name": "stdout",
     "text": [
      "[[ 2  0  0  0]\n",
      " [ 0  6  0  0]\n",
      " [ 0  0 12  0]\n",
      " [ 0  0  0 20]]\n",
      "*************\n",
      "[[ 2  0  0  0]\n",
      " [ 0  6  0  0]\n",
      " [ 0  0 12  0]\n",
      " [ 0  0  0 20]]\n"
     ],
     "output_type": "stream"
    }
   ],
   "source": [
    "#Matrix multiplication.\n",
    "A = np.diag([1,2,3,4])\n",
    "B = np.diag([2,3,4,5])\n",
    "print(A*B)\n",
    "print(\"*************\")\n",
    "print(A.dot(B))"
   ],
   "metadata": {
    "collapsed": false,
    "pycharm": {
     "name": "#%%\n",
     "is_executing": false
    }
   }
  },
  {
   "cell_type": "code",
   "execution_count": 66,
   "outputs": [
    {
     "name": "stdout",
     "text": [
      "False\n",
      "True\n"
     ],
     "output_type": "stream"
    }
   ],
   "source": [
    "# Compare every element of the array.\n",
    "A = [2,4,6,7,8]\n",
    "B = [2,3,5,7,2]\n",
    "print(A==B)\n",
    "print(A>B)"
   ],
   "metadata": {
    "collapsed": false,
    "pycharm": {
     "name": "#%%\n",
     "is_executing": false
    }
   }
  },
  {
   "cell_type": "code",
   "execution_count": 65,
   "outputs": [
    {
     "name": "stdout",
     "text": [
      "[ True False False  True False]\n",
      "[False  True  True False  True]\n"
     ],
     "output_type": "stream"
    }
   ],
   "source": [
    "# now take declare as the np array\n",
    "A = np.array(A)\n",
    "B = np.array(B)\n",
    "print(A==B)\n",
    "print(A>B)"
   ],
   "metadata": {
    "collapsed": false,
    "pycharm": {
     "name": "#%%\n",
     "is_executing": false
    }
   }
  },
  {
   "cell_type": "code",
   "execution_count": 70,
   "outputs": [
    {
     "name": "stdout",
     "text": [
      "False\n"
     ],
     "output_type": "stream"
    }
   ],
   "source": [
    "# what if you actually want to compare if array is equal or not\n",
    "np.array_equal(A,B)\n",
    "print(np.array_equal(A,B))"
   ],
   "metadata": {
    "collapsed": false,
    "pycharm": {
     "name": "#%%\n",
     "is_executing": false
    }
   }
  },
  {
   "cell_type": "code",
   "execution_count": 3,
   "outputs": [
    {
     "data": {
      "text/plain": "array([ True,  True,  True, False])"
     },
     "metadata": {},
     "output_type": "execute_result",
     "execution_count": 3
    }
   ],
   "source": [
    "# Logical operation\n",
    "import numpy as np\n",
    "A = np.array([1,0,1,0],dtype=bool)\n",
    "B = np.array([0,1,0,0],dtype=bool)\n",
    "np.logical_or(A,B)"
   ],
   "metadata": {
    "collapsed": false,
    "pycharm": {
     "name": "#%%\n",
     "is_executing": false
    }
   }
  },
  {
   "cell_type": "code",
   "execution_count": 4,
   "outputs": [
    {
     "data": {
      "text/plain": "array([0.8413, 0.    , 0.8413, 0.    ], dtype=float16)"
     },
     "metadata": {},
     "output_type": "execute_result",
     "execution_count": 4
    }
   ],
   "source": [
    "# Mathematical operation\n",
    "np.sin(A)\n"
   ],
   "metadata": {
    "collapsed": false,
    "pycharm": {
     "name": "#%%\n",
     "is_executing": false
    }
   }
  },
  {
   "cell_type": "code",
   "source": [
    "np.log(A)"
   ],
   "metadata": {
    "collapsed": false,
    "pycharm": {
     "name": "#%% \n",
     "is_executing": false
    }
   },
   "execution_count": 5,
   "outputs": [
    {
     "name": "stderr",
     "text": [
      "/home/ashutosh/PycharmProjects/python/venv/lib/python3.7/site-packages/ipykernel_launcher.py:1: RuntimeWarning: divide by zero encountered in log\n",
      "  \"\"\"Entry point for launching an IPython kernel.\n"
     ],
     "output_type": "stream"
    },
    {
     "data": {
      "text/plain": "array([  0., -inf,   0., -inf], dtype=float16)"
     },
     "metadata": {},
     "output_type": "execute_result",
     "execution_count": 5
    }
   ]
  },
  {
   "cell_type": "code",
   "execution_count": 7,
   "outputs": [
    {
     "data": {
      "text/plain": "2"
     },
     "metadata": {},
     "output_type": "execute_result",
     "execution_count": 7
    }
   ],
   "source": [
    "# Reduction\n",
    "np.sum(A)"
   ],
   "metadata": {
    "collapsed": false,
    "pycharm": {
     "name": "#%%\n",
     "is_executing": false
    }
   }
  },
  {
   "cell_type": "code",
   "execution_count": 8,
   "outputs": [
    {
     "data": {
      "text/plain": "21"
     },
     "metadata": {},
     "output_type": "execute_result",
     "execution_count": 8
    }
   ],
   "source": [
    "A = [[1,2,3],[4,5,6]]\n",
    "np.sum(A)"
   ],
   "metadata": {
    "collapsed": false,
    "pycharm": {
     "name": "#%%\n",
     "is_executing": false
    }
   }
  },
  {
   "cell_type": "code",
   "execution_count": 6,
   "outputs": [
    {
     "name": "stdout",
     "text": [
      "20\n",
      "[5 6 9]\n",
      "[ 5 15]\n",
      "1\n",
      "6\n",
      "0\n",
      "5\n"
     ],
     "output_type": "stream"
    }
   ],
   "source": [
    "import numpy as np\n",
    "A = [[1,1,3],[4,5,6]]\n",
    "A = np.array(A)\n",
    "print(A.sum())\n",
    "print(A.sum(axis = 0))\n",
    "print(A.sum(axis = 1))\n",
    "print(A.min())\n",
    "print(A.max())\n",
    "print(A.argmin())\n",
    "print(A.argmax())\n",
    "# sum will return total sum of all element.\n",
    "# sum(axis = 0 ) will return sum of each column.\n",
    "# sum(axis = 1) will return sum of each row."
   ],
   "metadata": {
    "collapsed": false,
    "pycharm": {
     "name": "#%%\n",
     "is_executing": false
    }
   }
  },
  {
   "cell_type": "code",
   "execution_count": 10,
   "outputs": [
    {
     "name": "stdout",
     "text": [
      "True\n",
      "False\n"
     ],
     "output_type": "stream"
    }
   ],
   "source": [
    "# Logical operation like all and any\n",
    "A = np.array([True,False,True],dtype = bool)\n",
    "print(A.any())\n",
    "print(A.all())"
   ],
   "metadata": {
    "collapsed": false,
    "pycharm": {
     "name": "#%%\n",
     "is_executing": false
    }
   }
  },
  {
   "cell_type": "code",
   "execution_count": 16,
   "outputs": [
    {
     "name": "stdout",
     "text": [
      "[15  3 10  6  9  1  8 10  9 14 19  4  7 19]\n",
      "9.571428571428571\n",
      "9.0\n",
      "5.3280160568490045\n"
     ],
     "output_type": "stream"
    }
   ],
   "source": [
    "# Statical operations\n",
    "A = np.random.randint(1,20,14)\n",
    "print(A)\n",
    "print(A.mean())\n",
    "print(np.median(A))\n",
    "print(np.std(A))"
   ],
   "metadata": {
    "collapsed": false,
    "pycharm": {
     "name": "#%%\n",
     "is_executing": false
    }
   }
  },
  {
   "cell_type": "code",
   "execution_count": 17,
   "outputs": [
    {
     "data": {
      "text/plain": "array([[ 1900., 30000.,  4000., 48300.],\n       [ 1901., 47200.,  6100., 48200.],\n       [ 1902., 70200.,  9800., 41500.],\n       [ 1903., 77400., 35200., 38200.],\n       [ 1904., 36300., 59400., 40600.],\n       [ 1905., 20600., 41700., 39800.],\n       [ 1906., 18100., 19000., 38600.],\n       [ 1907., 21400., 13000., 42300.],\n       [ 1908., 22000.,  8300., 44500.],\n       [ 1909., 25400.,  9100., 42100.],\n       [ 1910., 27100.,  7400., 46000.],\n       [ 1911., 40300.,  8000., 46800.],\n       [ 1912., 57000., 12300., 43800.],\n       [ 1913., 76600., 19500., 40900.],\n       [ 1914., 52300., 45700., 39400.],\n       [ 1915., 19500., 51100., 39000.],\n       [ 1916., 11200., 29700., 36700.],\n       [ 1917.,  7600., 15800., 41800.],\n       [ 1918., 14600.,  9700., 43300.],\n       [ 1919., 16200., 10100., 41300.],\n       [ 1920., 24700.,  8600., 47300.]])"
     },
     "metadata": {},
     "output_type": "execute_result",
     "execution_count": 17
    }
   ],
   "source": [
    "# Working with data in numpy\n",
    "data = np.loadtxt(\"populations.txt\")\n",
    "data"
   ],
   "metadata": {
    "collapsed": false,
    "pycharm": {
     "name": "#%%\n",
     "is_executing": false
    }
   }
  },
  {
   "cell_type": "code",
   "execution_count": 18,
   "outputs": [
    {
     "name": "stdout",
     "text": [
      "[1900. 1901. 1902. 1903. 1904. 1905. 1906. 1907. 1908. 1909. 1910. 1911.\n",
      " 1912. 1913. 1914. 1915. 1916. 1917. 1918. 1919. 1920.]\n"
     ],
     "output_type": "stream"
    }
   ],
   "source": [
    "year , hear , lynx , carrot = data.T\n",
    "print(year)"
   ],
   "metadata": {
    "collapsed": false,
    "pycharm": {
     "name": "#%%\n",
     "is_executing": false
    }
   }
  },
  {
   "cell_type": "code",
   "execution_count": 23,
   "outputs": [
    {
     "name": "stdout",
     "text": [
      "[[30000.  4000. 48300.]\n",
      " [47200.  6100. 48200.]\n",
      " [70200.  9800. 41500.]\n",
      " [77400. 35200. 38200.]\n",
      " [36300. 59400. 40600.]\n",
      " [20600. 41700. 39800.]\n",
      " [18100. 19000. 38600.]\n",
      " [21400. 13000. 42300.]\n",
      " [22000.  8300. 44500.]\n",
      " [25400.  9100. 42100.]\n",
      " [27100.  7400. 46000.]\n",
      " [40300.  8000. 46800.]\n",
      " [57000. 12300. 43800.]\n",
      " [76600. 19500. 40900.]\n",
      " [52300. 45700. 39400.]\n",
      " [19500. 51100. 39000.]\n",
      " [11200. 29700. 36700.]\n",
      " [ 7600. 15800. 41800.]\n",
      " [14600.  9700. 43300.]\n",
      " [16200. 10100. 41300.]\n",
      " [24700.  8600. 47300.]]\n"
     ],
     "output_type": "stream"
    }
   ],
   "source": [
    "populations = data[:,1:]\n",
    "print(populations)"
   ],
   "metadata": {
    "collapsed": false,
    "pycharm": {
     "name": "#%%\n",
     "is_executing": false
    }
   }
  },
  {
   "cell_type": "code",
   "execution_count": 25,
   "outputs": [
    {
     "data": {
      "text/plain": "array([6.05530071e+00, 2.08979065e+04, 1.62545915e+04, 3.32250623e+03])"
     },
     "metadata": {},
     "output_type": "execute_result",
     "execution_count": 25
    }
   ],
   "source": [
    "np.std(data,axis=0)\n"
   ],
   "metadata": {
    "collapsed": false,
    "pycharm": {
     "name": "#%%\n",
     "is_executing": false
    }
   }
  },
  {
   "cell_type": "code",
   "execution_count": 26,
   "outputs": [
    {
     "data": {
      "text/plain": "array([ 1910., 25400., 12300., 41800.])"
     },
     "metadata": {},
     "output_type": "execute_result",
     "execution_count": 26
    }
   ],
   "source": [
    "np.median(data,axis = 0)"
   ],
   "metadata": {
    "collapsed": false,
    "pycharm": {
     "name": "#%%\n",
     "is_executing": false
    }
   }
  },
  {
   "cell_type": "code",
   "execution_count": 31,
   "outputs": [
    {
     "name": "stdout",
     "text": [
      "[48300. 48200. 70200. 77400. 59400. 41700. 38600. 42300. 44500. 42100.\n",
      " 46000. 46800. 57000. 76600. 52300. 51100. 36700. 41800. 43300. 41300.\n",
      " 47300.]\n",
      "[2 2 0 0 1 1 2 2 2 2 2 2 0 0 0 1 2 2 2 2 2]\n"
     ],
     "output_type": "stream"
    }
   ],
   "source": [
    "# For each year which species ths maximum population\n",
    "print(np.max(data[:,1:4],axis=1))\n",
    "print(np.argmax(data[:,1:4],axis = 1))\n"
   ],
   "metadata": {
    "collapsed": false,
    "pycharm": {
     "name": "#%%\n",
     "is_executing": false
    }
   }
  },
  {
   "cell_type": "code",
   "execution_count": 36,
   "outputs": [
    {
     "name": "stdout",
     "text": [
      "[[1 1 1]\n",
      " [1 1 1]\n",
      " [1 1 1]\n",
      " [1 1 1]]\n",
      "[[1 1 1]\n",
      " [1 1 1]\n",
      " [1 1 1]\n",
      " [1 1 1]]\n",
      "[[2 2 2]\n",
      " [2 2 2]\n",
      " [2 2 2]\n",
      " [2 2 2]]\n"
     ],
     "output_type": "stream"
    }
   ],
   "source": [
    "# Broadcasting in numpy\n",
    "# Just simple addition\n",
    "A = np.ones((4,3),dtype=int)\n",
    "print(A)\n",
    "B = np.ones((4,3),dtype=int)\n",
    "print(B)\n",
    "print(A+B)"
   ],
   "metadata": {
    "collapsed": false,
    "pycharm": {
     "name": "#%%\n",
     "is_executing": false
    }
   }
  },
  {
   "cell_type": "code",
   "execution_count": 47,
   "outputs": [
    {
     "name": "stdout",
     "text": [
      "[[1 4 7]]\n",
      "[[3 6 9]\n",
      " [3 6 9]\n",
      " [3 6 9]]\n"
     ],
     "output_type": "stream"
    }
   ],
   "source": [
    "A = np.tile(np.arange(1,10,3),(1,1))\n",
    "print(A)\n",
    "B = np.tile(np.arange(3,10,3),(3,1))\n",
    "print(B)"
   ],
   "metadata": {
    "collapsed": false,
    "pycharm": {
     "name": "#%%\n",
     "is_executing": false
    }
   }
  },
  {
   "cell_type": "code",
   "execution_count": 52,
   "outputs": [
    {
     "name": "stdout",
     "text": [
      "[[ 4  7 10]\n",
      " [ 7 10 13]\n",
      " [10 13 16]]\n",
      "[[1]\n",
      " [4]\n",
      " [7]]\n",
      "[[ 4  7 10]\n",
      " [ 7 10 13]\n",
      " [10 13 16]]\n",
      "[3 6 9]\n",
      "[[1]\n",
      " [4]\n",
      " [7]]\n",
      "[[ 4  7 10]\n",
      " [ 7 10 13]\n",
      " [10 13 16]]\n"
     ],
     "output_type": "stream"
    }
   ],
   "source": [
    "print(A+B)\n",
    "A = np.arange(1,10,3)\n",
    "# Convert 1d array into 2d array by using special function.\n",
    "A = A[:,np.newaxis]\n",
    "print(A)\n",
    "print(A+B)\n",
    "B = np.arange(3,10,3)\n",
    "print(B)\n",
    "print(A)\n",
    "print(A+B)\n",
    "\n"
   ],
   "metadata": {
    "collapsed": false,
    "pycharm": {
     "name": "#%%\n",
     "is_executing": false
    }
   }
  }
 ],
 "metadata": {
  "kernelspec": {
   "display_name": "Python 3",
   "language": "python",
   "name": "python3"
  },
  "language_info": {
   "codemirror_mode": {
    "name": "ipython",
    "version": 2
   },
   "file_extension": ".py",
   "mimetype": "text/x-python",
   "name": "python",
   "nbconvert_exporter": "python",
   "pygments_lexer": "ipython2",
   "version": "2.7.6"
  },
  "pycharm": {
   "stem_cell": {
    "cell_type": "raw",
    "source": [],
    "metadata": {
     "collapsed": false
    }
   }
  }
 },
 "nbformat": 4,
 "nbformat_minor": 0
}