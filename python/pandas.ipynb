{
 "cells": [
  {
   "cell_type": "code",
   "execution_count": 2,
   "metadata": {
    "collapsed": true,
    "pycharm": {
     "is_executing": false,
     "name": "#%%\n"
    }
   },
   "outputs": [
    {
     "data": {
      "text/plain": "          EST  Temperature  DewPoint  Humidity  Sea Level PressureIn  \\\n0    1/1/2016           38        23        52                 30.03   \n1    1/2/2016           36        18        46                 30.02   \n2    1/3/2016           40        21        47                 29.86   \n3    1/4/2016           25         9        44                 30.05   \n4    1/5/2016           20        -3        41                 30.57   \n5    1/6/2016           33         4        35                 30.50   \n6    1/7/2016           39        11        33                 30.28   \n7    1/8/2016           39        29        64                 30.20   \n8    1/9/2016           44        38        77                 30.16   \n9   1/10/2016           50        46        71                 29.59   \n10  1/11/2016           33         8        37                 29.92   \n11  1/12/2016           35        15        53                 29.85   \n12  1/13/2016           26         4        42                 29.94   \n13  1/14/2016           30        12        47                 29.95   \n14  1/15/2016           43        31        62                 29.82   \n15  1/16/2016           47        37        70                 29.52   \n16  1/17/2016           36        23        66                 29.78   \n17  1/18/2016           25         6        53                 29.83   \n18  1/19/2016           22         3        42                 30.03   \n19  1/20/2016           32        15        49                 30.13   \n20  1/21/2016           31        11        45                 30.15   \n21  1/22/2016           26         6        41                 30.21   \n22  1/23/2016           26        21        78                 29.77   \n23  1/24/2016           28        11        53                 29.92   \n24  1/25/2016           34        18        54                 30.25   \n25  1/26/2016           43        29        56                 30.03   \n26  1/27/2016           41        22        45                 30.03   \n27  1/28/2016           37        20        51                 29.90   \n28  1/29/2016           36        21        50                 29.58   \n29  1/30/2016           34        16        46                 30.01   \n30  1/31/2016           46        28        52                 29.90   \n\n    VisibilityMiles  WindSpeedMPH PrecipitationIn  CloudCover    Events  \\\n0                10           8.0               0           5       NaN   \n1                10           7.0               0           3       NaN   \n2                10           8.0               0           1       NaN   \n3                10           9.0               0           3       NaN   \n4                10           5.0               0           0       NaN   \n5                10           4.0               0           0       NaN   \n6                10           2.0               0           3       NaN   \n7                10           4.0               0           8       NaN   \n8                 9           8.0               T           8      Rain   \n9                 4           NaN             1.8           7      Rain   \n10               10           NaN               0           1       NaN   \n11               10           6.0               T           4       NaN   \n12               10          10.0               0           0       NaN   \n13               10           5.0               T           7       NaN   \n14                9           5.0               T           2       NaN   \n15                8           7.0            0.24           7      Rain   \n16                8           6.0            0.05           6  Fog-Snow   \n17                9          12.0               T           2      Snow   \n18               10          11.0               0           1       NaN   \n19               10           6.0               0           2       NaN   \n20               10           6.0               0           1       NaN   \n21                9           NaN            0.01           3      Snow   \n22                1          16.0            2.31           8  Fog-Snow   \n23                8           6.0               T           3      Snow   \n24               10           3.0               0           2       NaN   \n25               10           7.0               0           2       NaN   \n26               10           7.0               T           3      Rain   \n27               10           5.0               0           1       NaN   \n28               10           8.0               0           4       NaN   \n29               10           7.0               0           0       NaN   \n30               10           5.0               0           0       NaN   \n\n    WindDirDegrees  \n0              281  \n1              275  \n2              277  \n3              345  \n4              333  \n5              259  \n6              293  \n7               79  \n8               76  \n9              109  \n10             289  \n11             235  \n12             284  \n13             266  \n14             101  \n15             340  \n16             345  \n17             293  \n18             293  \n19             302  \n20             312  \n21              34  \n22              42  \n23             327  \n24             286  \n25             244  \n26             311  \n27             234  \n28             298  \n29             257  \n30             241  ",
      "text/html": "<div>\n<style scoped>\n    .dataframe tbody tr th:only-of-type {\n        vertical-align: middle;\n    }\n\n    .dataframe tbody tr th {\n        vertical-align: top;\n    }\n\n    .dataframe thead th {\n        text-align: right;\n    }\n</style>\n<table border=\"1\" class=\"dataframe\">\n  <thead>\n    <tr style=\"text-align: right;\">\n      <th></th>\n      <th>EST</th>\n      <th>Temperature</th>\n      <th>DewPoint</th>\n      <th>Humidity</th>\n      <th>Sea Level PressureIn</th>\n      <th>VisibilityMiles</th>\n      <th>WindSpeedMPH</th>\n      <th>PrecipitationIn</th>\n      <th>CloudCover</th>\n      <th>Events</th>\n      <th>WindDirDegrees</th>\n    </tr>\n  </thead>\n  <tbody>\n    <tr>\n      <th>0</th>\n      <td>1/1/2016</td>\n      <td>38</td>\n      <td>23</td>\n      <td>52</td>\n      <td>30.03</td>\n      <td>10</td>\n      <td>8.0</td>\n      <td>0</td>\n      <td>5</td>\n      <td>NaN</td>\n      <td>281</td>\n    </tr>\n    <tr>\n      <th>1</th>\n      <td>1/2/2016</td>\n      <td>36</td>\n      <td>18</td>\n      <td>46</td>\n      <td>30.02</td>\n      <td>10</td>\n      <td>7.0</td>\n      <td>0</td>\n      <td>3</td>\n      <td>NaN</td>\n      <td>275</td>\n    </tr>\n    <tr>\n      <th>2</th>\n      <td>1/3/2016</td>\n      <td>40</td>\n      <td>21</td>\n      <td>47</td>\n      <td>29.86</td>\n      <td>10</td>\n      <td>8.0</td>\n      <td>0</td>\n      <td>1</td>\n      <td>NaN</td>\n      <td>277</td>\n    </tr>\n    <tr>\n      <th>3</th>\n      <td>1/4/2016</td>\n      <td>25</td>\n      <td>9</td>\n      <td>44</td>\n      <td>30.05</td>\n      <td>10</td>\n      <td>9.0</td>\n      <td>0</td>\n      <td>3</td>\n      <td>NaN</td>\n      <td>345</td>\n    </tr>\n    <tr>\n      <th>4</th>\n      <td>1/5/2016</td>\n      <td>20</td>\n      <td>-3</td>\n      <td>41</td>\n      <td>30.57</td>\n      <td>10</td>\n      <td>5.0</td>\n      <td>0</td>\n      <td>0</td>\n      <td>NaN</td>\n      <td>333</td>\n    </tr>\n    <tr>\n      <th>5</th>\n      <td>1/6/2016</td>\n      <td>33</td>\n      <td>4</td>\n      <td>35</td>\n      <td>30.50</td>\n      <td>10</td>\n      <td>4.0</td>\n      <td>0</td>\n      <td>0</td>\n      <td>NaN</td>\n      <td>259</td>\n    </tr>\n    <tr>\n      <th>6</th>\n      <td>1/7/2016</td>\n      <td>39</td>\n      <td>11</td>\n      <td>33</td>\n      <td>30.28</td>\n      <td>10</td>\n      <td>2.0</td>\n      <td>0</td>\n      <td>3</td>\n      <td>NaN</td>\n      <td>293</td>\n    </tr>\n    <tr>\n      <th>7</th>\n      <td>1/8/2016</td>\n      <td>39</td>\n      <td>29</td>\n      <td>64</td>\n      <td>30.20</td>\n      <td>10</td>\n      <td>4.0</td>\n      <td>0</td>\n      <td>8</td>\n      <td>NaN</td>\n      <td>79</td>\n    </tr>\n    <tr>\n      <th>8</th>\n      <td>1/9/2016</td>\n      <td>44</td>\n      <td>38</td>\n      <td>77</td>\n      <td>30.16</td>\n      <td>9</td>\n      <td>8.0</td>\n      <td>T</td>\n      <td>8</td>\n      <td>Rain</td>\n      <td>76</td>\n    </tr>\n    <tr>\n      <th>9</th>\n      <td>1/10/2016</td>\n      <td>50</td>\n      <td>46</td>\n      <td>71</td>\n      <td>29.59</td>\n      <td>4</td>\n      <td>NaN</td>\n      <td>1.8</td>\n      <td>7</td>\n      <td>Rain</td>\n      <td>109</td>\n    </tr>\n    <tr>\n      <th>10</th>\n      <td>1/11/2016</td>\n      <td>33</td>\n      <td>8</td>\n      <td>37</td>\n      <td>29.92</td>\n      <td>10</td>\n      <td>NaN</td>\n      <td>0</td>\n      <td>1</td>\n      <td>NaN</td>\n      <td>289</td>\n    </tr>\n    <tr>\n      <th>11</th>\n      <td>1/12/2016</td>\n      <td>35</td>\n      <td>15</td>\n      <td>53</td>\n      <td>29.85</td>\n      <td>10</td>\n      <td>6.0</td>\n      <td>T</td>\n      <td>4</td>\n      <td>NaN</td>\n      <td>235</td>\n    </tr>\n    <tr>\n      <th>12</th>\n      <td>1/13/2016</td>\n      <td>26</td>\n      <td>4</td>\n      <td>42</td>\n      <td>29.94</td>\n      <td>10</td>\n      <td>10.0</td>\n      <td>0</td>\n      <td>0</td>\n      <td>NaN</td>\n      <td>284</td>\n    </tr>\n    <tr>\n      <th>13</th>\n      <td>1/14/2016</td>\n      <td>30</td>\n      <td>12</td>\n      <td>47</td>\n      <td>29.95</td>\n      <td>10</td>\n      <td>5.0</td>\n      <td>T</td>\n      <td>7</td>\n      <td>NaN</td>\n      <td>266</td>\n    </tr>\n    <tr>\n      <th>14</th>\n      <td>1/15/2016</td>\n      <td>43</td>\n      <td>31</td>\n      <td>62</td>\n      <td>29.82</td>\n      <td>9</td>\n      <td>5.0</td>\n      <td>T</td>\n      <td>2</td>\n      <td>NaN</td>\n      <td>101</td>\n    </tr>\n    <tr>\n      <th>15</th>\n      <td>1/16/2016</td>\n      <td>47</td>\n      <td>37</td>\n      <td>70</td>\n      <td>29.52</td>\n      <td>8</td>\n      <td>7.0</td>\n      <td>0.24</td>\n      <td>7</td>\n      <td>Rain</td>\n      <td>340</td>\n    </tr>\n    <tr>\n      <th>16</th>\n      <td>1/17/2016</td>\n      <td>36</td>\n      <td>23</td>\n      <td>66</td>\n      <td>29.78</td>\n      <td>8</td>\n      <td>6.0</td>\n      <td>0.05</td>\n      <td>6</td>\n      <td>Fog-Snow</td>\n      <td>345</td>\n    </tr>\n    <tr>\n      <th>17</th>\n      <td>1/18/2016</td>\n      <td>25</td>\n      <td>6</td>\n      <td>53</td>\n      <td>29.83</td>\n      <td>9</td>\n      <td>12.0</td>\n      <td>T</td>\n      <td>2</td>\n      <td>Snow</td>\n      <td>293</td>\n    </tr>\n    <tr>\n      <th>18</th>\n      <td>1/19/2016</td>\n      <td>22</td>\n      <td>3</td>\n      <td>42</td>\n      <td>30.03</td>\n      <td>10</td>\n      <td>11.0</td>\n      <td>0</td>\n      <td>1</td>\n      <td>NaN</td>\n      <td>293</td>\n    </tr>\n    <tr>\n      <th>19</th>\n      <td>1/20/2016</td>\n      <td>32</td>\n      <td>15</td>\n      <td>49</td>\n      <td>30.13</td>\n      <td>10</td>\n      <td>6.0</td>\n      <td>0</td>\n      <td>2</td>\n      <td>NaN</td>\n      <td>302</td>\n    </tr>\n    <tr>\n      <th>20</th>\n      <td>1/21/2016</td>\n      <td>31</td>\n      <td>11</td>\n      <td>45</td>\n      <td>30.15</td>\n      <td>10</td>\n      <td>6.0</td>\n      <td>0</td>\n      <td>1</td>\n      <td>NaN</td>\n      <td>312</td>\n    </tr>\n    <tr>\n      <th>21</th>\n      <td>1/22/2016</td>\n      <td>26</td>\n      <td>6</td>\n      <td>41</td>\n      <td>30.21</td>\n      <td>9</td>\n      <td>NaN</td>\n      <td>0.01</td>\n      <td>3</td>\n      <td>Snow</td>\n      <td>34</td>\n    </tr>\n    <tr>\n      <th>22</th>\n      <td>1/23/2016</td>\n      <td>26</td>\n      <td>21</td>\n      <td>78</td>\n      <td>29.77</td>\n      <td>1</td>\n      <td>16.0</td>\n      <td>2.31</td>\n      <td>8</td>\n      <td>Fog-Snow</td>\n      <td>42</td>\n    </tr>\n    <tr>\n      <th>23</th>\n      <td>1/24/2016</td>\n      <td>28</td>\n      <td>11</td>\n      <td>53</td>\n      <td>29.92</td>\n      <td>8</td>\n      <td>6.0</td>\n      <td>T</td>\n      <td>3</td>\n      <td>Snow</td>\n      <td>327</td>\n    </tr>\n    <tr>\n      <th>24</th>\n      <td>1/25/2016</td>\n      <td>34</td>\n      <td>18</td>\n      <td>54</td>\n      <td>30.25</td>\n      <td>10</td>\n      <td>3.0</td>\n      <td>0</td>\n      <td>2</td>\n      <td>NaN</td>\n      <td>286</td>\n    </tr>\n    <tr>\n      <th>25</th>\n      <td>1/26/2016</td>\n      <td>43</td>\n      <td>29</td>\n      <td>56</td>\n      <td>30.03</td>\n      <td>10</td>\n      <td>7.0</td>\n      <td>0</td>\n      <td>2</td>\n      <td>NaN</td>\n      <td>244</td>\n    </tr>\n    <tr>\n      <th>26</th>\n      <td>1/27/2016</td>\n      <td>41</td>\n      <td>22</td>\n      <td>45</td>\n      <td>30.03</td>\n      <td>10</td>\n      <td>7.0</td>\n      <td>T</td>\n      <td>3</td>\n      <td>Rain</td>\n      <td>311</td>\n    </tr>\n    <tr>\n      <th>27</th>\n      <td>1/28/2016</td>\n      <td>37</td>\n      <td>20</td>\n      <td>51</td>\n      <td>29.90</td>\n      <td>10</td>\n      <td>5.0</td>\n      <td>0</td>\n      <td>1</td>\n      <td>NaN</td>\n      <td>234</td>\n    </tr>\n    <tr>\n      <th>28</th>\n      <td>1/29/2016</td>\n      <td>36</td>\n      <td>21</td>\n      <td>50</td>\n      <td>29.58</td>\n      <td>10</td>\n      <td>8.0</td>\n      <td>0</td>\n      <td>4</td>\n      <td>NaN</td>\n      <td>298</td>\n    </tr>\n    <tr>\n      <th>29</th>\n      <td>1/30/2016</td>\n      <td>34</td>\n      <td>16</td>\n      <td>46</td>\n      <td>30.01</td>\n      <td>10</td>\n      <td>7.0</td>\n      <td>0</td>\n      <td>0</td>\n      <td>NaN</td>\n      <td>257</td>\n    </tr>\n    <tr>\n      <th>30</th>\n      <td>1/31/2016</td>\n      <td>46</td>\n      <td>28</td>\n      <td>52</td>\n      <td>29.90</td>\n      <td>10</td>\n      <td>5.0</td>\n      <td>0</td>\n      <td>0</td>\n      <td>NaN</td>\n      <td>241</td>\n    </tr>\n  </tbody>\n</table>\n</div>"
     },
     "metadata": {},
     "output_type": "execute_result",
     "execution_count": 2
    }
   ],
   "source": [
    "import pandas as pd\n",
    "df = pd.read_csv('nyc_weather.csv')\n",
    "df"
   ]
  },
  {
   "cell_type": "code",
   "execution_count": 3,
   "outputs": [
    {
     "data": {
      "text/plain": "50"
     },
     "metadata": {},
     "output_type": "execute_result",
     "execution_count": 3
    }
   ],
   "source": [
    "#Find the maximum Temperature in newYork city.\n",
    "df['Temperature'].max()"
   ],
   "metadata": {
    "collapsed": false,
    "pycharm": {
     "name": "#%%\n",
     "is_executing": false
    }
   }
  },
  {
   "cell_type": "code",
   "execution_count": 5,
   "outputs": [
    {
     "data": {
      "text/plain": "        EST  Temperature  DewPoint  Humidity  Sea Level PressureIn  \\\n4  1/5/2016           20        -3        41                 30.57   \n\n   VisibilityMiles  WindSpeedMPH PrecipitationIn  CloudCover Events  \\\n4               10           5.0               0           0    NaN   \n\n   WindDirDegrees  \n4             333  ",
      "text/html": "<div>\n<style scoped>\n    .dataframe tbody tr th:only-of-type {\n        vertical-align: middle;\n    }\n\n    .dataframe tbody tr th {\n        vertical-align: top;\n    }\n\n    .dataframe thead th {\n        text-align: right;\n    }\n</style>\n<table border=\"1\" class=\"dataframe\">\n  <thead>\n    <tr style=\"text-align: right;\">\n      <th></th>\n      <th>EST</th>\n      <th>Temperature</th>\n      <th>DewPoint</th>\n      <th>Humidity</th>\n      <th>Sea Level PressureIn</th>\n      <th>VisibilityMiles</th>\n      <th>WindSpeedMPH</th>\n      <th>PrecipitationIn</th>\n      <th>CloudCover</th>\n      <th>Events</th>\n      <th>WindDirDegrees</th>\n    </tr>\n  </thead>\n  <tbody>\n    <tr>\n      <th>4</th>\n      <td>1/5/2016</td>\n      <td>20</td>\n      <td>-3</td>\n      <td>41</td>\n      <td>30.57</td>\n      <td>10</td>\n      <td>5.0</td>\n      <td>0</td>\n      <td>0</td>\n      <td>NaN</td>\n      <td>333</td>\n    </tr>\n  </tbody>\n</table>\n</div>"
     },
     "metadata": {},
     "output_type": "execute_result",
     "execution_count": 5
    }
   ],
   "source": [
    "#Print the complete information of the day when temperature is minimum\n",
    "df[df['Temperature']==df['Temperature'].min()]"
   ],
   "metadata": {
    "collapsed": false,
    "pycharm": {
     "name": "#%%\n",
     "is_executing": false
    }
   }
  },
  {
   "cell_type": "code",
   "execution_count": 6,
   "outputs": [
    {
     "data": {
      "text/plain": "       Temperature   DewPoint   Humidity  Sea Level PressureIn  \\\ncount    31.000000  31.000000  31.000000             31.000000   \nmean     34.677419  17.838710  51.677419             29.992903   \nstd       7.639315  11.378626  11.634395              0.237237   \nmin      20.000000  -3.000000  33.000000             29.520000   \n25%      29.000000  10.000000  44.500000             29.855000   \n50%      35.000000  18.000000  50.000000             30.010000   \n75%      39.500000  23.000000  55.000000             30.140000   \nmax      50.000000  46.000000  78.000000             30.570000   \n\n       VisibilityMiles  WindSpeedMPH  CloudCover  WindDirDegrees  \ncount        31.000000     28.000000   31.000000       31.000000  \nmean          9.193548      6.892857    3.129032      247.129032  \nstd           1.939405      2.871821    2.629853       92.308086  \nmin           1.000000      2.000000    0.000000       34.000000  \n25%           9.000000      5.000000    1.000000      238.000000  \n50%          10.000000      6.500000    3.000000      281.000000  \n75%          10.000000      8.000000    4.500000      300.000000  \nmax          10.000000     16.000000    8.000000      345.000000  ",
      "text/html": "<div>\n<style scoped>\n    .dataframe tbody tr th:only-of-type {\n        vertical-align: middle;\n    }\n\n    .dataframe tbody tr th {\n        vertical-align: top;\n    }\n\n    .dataframe thead th {\n        text-align: right;\n    }\n</style>\n<table border=\"1\" class=\"dataframe\">\n  <thead>\n    <tr style=\"text-align: right;\">\n      <th></th>\n      <th>Temperature</th>\n      <th>DewPoint</th>\n      <th>Humidity</th>\n      <th>Sea Level PressureIn</th>\n      <th>VisibilityMiles</th>\n      <th>WindSpeedMPH</th>\n      <th>CloudCover</th>\n      <th>WindDirDegrees</th>\n    </tr>\n  </thead>\n  <tbody>\n    <tr>\n      <th>count</th>\n      <td>31.000000</td>\n      <td>31.000000</td>\n      <td>31.000000</td>\n      <td>31.000000</td>\n      <td>31.000000</td>\n      <td>28.000000</td>\n      <td>31.000000</td>\n      <td>31.000000</td>\n    </tr>\n    <tr>\n      <th>mean</th>\n      <td>34.677419</td>\n      <td>17.838710</td>\n      <td>51.677419</td>\n      <td>29.992903</td>\n      <td>9.193548</td>\n      <td>6.892857</td>\n      <td>3.129032</td>\n      <td>247.129032</td>\n    </tr>\n    <tr>\n      <th>std</th>\n      <td>7.639315</td>\n      <td>11.378626</td>\n      <td>11.634395</td>\n      <td>0.237237</td>\n      <td>1.939405</td>\n      <td>2.871821</td>\n      <td>2.629853</td>\n      <td>92.308086</td>\n    </tr>\n    <tr>\n      <th>min</th>\n      <td>20.000000</td>\n      <td>-3.000000</td>\n      <td>33.000000</td>\n      <td>29.520000</td>\n      <td>1.000000</td>\n      <td>2.000000</td>\n      <td>0.000000</td>\n      <td>34.000000</td>\n    </tr>\n    <tr>\n      <th>25%</th>\n      <td>29.000000</td>\n      <td>10.000000</td>\n      <td>44.500000</td>\n      <td>29.855000</td>\n      <td>9.000000</td>\n      <td>5.000000</td>\n      <td>1.000000</td>\n      <td>238.000000</td>\n    </tr>\n    <tr>\n      <th>50%</th>\n      <td>35.000000</td>\n      <td>18.000000</td>\n      <td>50.000000</td>\n      <td>30.010000</td>\n      <td>10.000000</td>\n      <td>6.500000</td>\n      <td>3.000000</td>\n      <td>281.000000</td>\n    </tr>\n    <tr>\n      <th>75%</th>\n      <td>39.500000</td>\n      <td>23.000000</td>\n      <td>55.000000</td>\n      <td>30.140000</td>\n      <td>10.000000</td>\n      <td>8.000000</td>\n      <td>4.500000</td>\n      <td>300.000000</td>\n    </tr>\n    <tr>\n      <th>max</th>\n      <td>50.000000</td>\n      <td>46.000000</td>\n      <td>78.000000</td>\n      <td>30.570000</td>\n      <td>10.000000</td>\n      <td>16.000000</td>\n      <td>8.000000</td>\n      <td>345.000000</td>\n    </tr>\n  </tbody>\n</table>\n</div>"
     },
     "metadata": {},
     "output_type": "execute_result",
     "execution_count": 6
    }
   ],
   "source": [
    "df.describe()"
   ],
   "metadata": {
    "collapsed": false,
    "pycharm": {
     "name": "#%%\n",
     "is_executing": false
    }
   }
  },
  {
   "cell_type": "code",
   "execution_count": 9,
   "outputs": [
    {
     "data": {
      "text/plain": "8      1/9/2016\n9     1/10/2016\n15    1/16/2016\n26    1/27/2016\nName: EST, dtype: object"
     },
     "metadata": {},
     "output_type": "execute_result",
     "execution_count": 9
    }
   ],
   "source": [
    "#print all the day when there is rain.\n",
    "df['EST'][df['Events']=='Rain']"
   ],
   "metadata": {
    "collapsed": false,
    "pycharm": {
     "name": "#%%\n",
     "is_executing": false
    }
   }
  },
  {
   "cell_type": "code",
   "execution_count": 10,
   "outputs": [
    {
     "data": {
      "text/plain": "6.892857142857143"
     },
     "metadata": {},
     "output_type": "execute_result",
     "execution_count": 10
    }
   ],
   "source": [
    "# Print average windSpeed.\n",
    "df['WindSpeedMPH'].mean()"
   ],
   "metadata": {
    "collapsed": false,
    "pycharm": {
     "name": "#%%\n",
     "is_executing": false
    }
   }
  },
  {
   "cell_type": "code",
   "execution_count": 11,
   "outputs": [
    {
     "data": {
      "text/plain": "        EST  Temperature  DewPoint  Humidity  Sea Level PressureIn  \\\n0  1/1/2016           38        23        52                 30.03   \n1  1/2/2016           36        18        46                 30.02   \n2  1/3/2016           40        21        47                 29.86   \n3  1/4/2016           25         9        44                 30.05   \n4  1/5/2016           20        -3        41                 30.57   \n\n   VisibilityMiles  WindSpeedMPH PrecipitationIn  CloudCover Events  \\\n0               10           8.0               0           5    NaN   \n1               10           7.0               0           3    NaN   \n2               10           8.0               0           1    NaN   \n3               10           9.0               0           3    NaN   \n4               10           5.0               0           0    NaN   \n\n   WindDirDegrees  \n0             281  \n1             275  \n2             277  \n3             345  \n4             333  ",
      "text/html": "<div>\n<style scoped>\n    .dataframe tbody tr th:only-of-type {\n        vertical-align: middle;\n    }\n\n    .dataframe tbody tr th {\n        vertical-align: top;\n    }\n\n    .dataframe thead th {\n        text-align: right;\n    }\n</style>\n<table border=\"1\" class=\"dataframe\">\n  <thead>\n    <tr style=\"text-align: right;\">\n      <th></th>\n      <th>EST</th>\n      <th>Temperature</th>\n      <th>DewPoint</th>\n      <th>Humidity</th>\n      <th>Sea Level PressureIn</th>\n      <th>VisibilityMiles</th>\n      <th>WindSpeedMPH</th>\n      <th>PrecipitationIn</th>\n      <th>CloudCover</th>\n      <th>Events</th>\n      <th>WindDirDegrees</th>\n    </tr>\n  </thead>\n  <tbody>\n    <tr>\n      <th>0</th>\n      <td>1/1/2016</td>\n      <td>38</td>\n      <td>23</td>\n      <td>52</td>\n      <td>30.03</td>\n      <td>10</td>\n      <td>8.0</td>\n      <td>0</td>\n      <td>5</td>\n      <td>NaN</td>\n      <td>281</td>\n    </tr>\n    <tr>\n      <th>1</th>\n      <td>1/2/2016</td>\n      <td>36</td>\n      <td>18</td>\n      <td>46</td>\n      <td>30.02</td>\n      <td>10</td>\n      <td>7.0</td>\n      <td>0</td>\n      <td>3</td>\n      <td>NaN</td>\n      <td>275</td>\n    </tr>\n    <tr>\n      <th>2</th>\n      <td>1/3/2016</td>\n      <td>40</td>\n      <td>21</td>\n      <td>47</td>\n      <td>29.86</td>\n      <td>10</td>\n      <td>8.0</td>\n      <td>0</td>\n      <td>1</td>\n      <td>NaN</td>\n      <td>277</td>\n    </tr>\n    <tr>\n      <th>3</th>\n      <td>1/4/2016</td>\n      <td>25</td>\n      <td>9</td>\n      <td>44</td>\n      <td>30.05</td>\n      <td>10</td>\n      <td>9.0</td>\n      <td>0</td>\n      <td>3</td>\n      <td>NaN</td>\n      <td>345</td>\n    </tr>\n    <tr>\n      <th>4</th>\n      <td>1/5/2016</td>\n      <td>20</td>\n      <td>-3</td>\n      <td>41</td>\n      <td>30.57</td>\n      <td>10</td>\n      <td>5.0</td>\n      <td>0</td>\n      <td>0</td>\n      <td>NaN</td>\n      <td>333</td>\n    </tr>\n  </tbody>\n</table>\n</div>"
     },
     "metadata": {},
     "output_type": "execute_result",
     "execution_count": 11
    }
   ],
   "source": [
    "df.head()"
   ],
   "metadata": {
    "collapsed": false,
    "pycharm": {
     "name": "#%%\n",
     "is_executing": false
    }
   }
  },
  {
   "cell_type": "code",
   "execution_count": 12,
   "outputs": [
    {
     "data": {
      "text/plain": "          EST  Temperature  DewPoint  Humidity  Sea Level PressureIn  \\\n26  1/27/2016           41        22        45                 30.03   \n27  1/28/2016           37        20        51                 29.90   \n28  1/29/2016           36        21        50                 29.58   \n29  1/30/2016           34        16        46                 30.01   \n30  1/31/2016           46        28        52                 29.90   \n\n    VisibilityMiles  WindSpeedMPH PrecipitationIn  CloudCover Events  \\\n26               10           7.0               T           3   Rain   \n27               10           5.0               0           1    NaN   \n28               10           8.0               0           4    NaN   \n29               10           7.0               0           0    NaN   \n30               10           5.0               0           0    NaN   \n\n    WindDirDegrees  \n26             311  \n27             234  \n28             298  \n29             257  \n30             241  ",
      "text/html": "<div>\n<style scoped>\n    .dataframe tbody tr th:only-of-type {\n        vertical-align: middle;\n    }\n\n    .dataframe tbody tr th {\n        vertical-align: top;\n    }\n\n    .dataframe thead th {\n        text-align: right;\n    }\n</style>\n<table border=\"1\" class=\"dataframe\">\n  <thead>\n    <tr style=\"text-align: right;\">\n      <th></th>\n      <th>EST</th>\n      <th>Temperature</th>\n      <th>DewPoint</th>\n      <th>Humidity</th>\n      <th>Sea Level PressureIn</th>\n      <th>VisibilityMiles</th>\n      <th>WindSpeedMPH</th>\n      <th>PrecipitationIn</th>\n      <th>CloudCover</th>\n      <th>Events</th>\n      <th>WindDirDegrees</th>\n    </tr>\n  </thead>\n  <tbody>\n    <tr>\n      <th>26</th>\n      <td>1/27/2016</td>\n      <td>41</td>\n      <td>22</td>\n      <td>45</td>\n      <td>30.03</td>\n      <td>10</td>\n      <td>7.0</td>\n      <td>T</td>\n      <td>3</td>\n      <td>Rain</td>\n      <td>311</td>\n    </tr>\n    <tr>\n      <th>27</th>\n      <td>1/28/2016</td>\n      <td>37</td>\n      <td>20</td>\n      <td>51</td>\n      <td>29.90</td>\n      <td>10</td>\n      <td>5.0</td>\n      <td>0</td>\n      <td>1</td>\n      <td>NaN</td>\n      <td>234</td>\n    </tr>\n    <tr>\n      <th>28</th>\n      <td>1/29/2016</td>\n      <td>36</td>\n      <td>21</td>\n      <td>50</td>\n      <td>29.58</td>\n      <td>10</td>\n      <td>8.0</td>\n      <td>0</td>\n      <td>4</td>\n      <td>NaN</td>\n      <td>298</td>\n    </tr>\n    <tr>\n      <th>29</th>\n      <td>1/30/2016</td>\n      <td>34</td>\n      <td>16</td>\n      <td>46</td>\n      <td>30.01</td>\n      <td>10</td>\n      <td>7.0</td>\n      <td>0</td>\n      <td>0</td>\n      <td>NaN</td>\n      <td>257</td>\n    </tr>\n    <tr>\n      <th>30</th>\n      <td>1/31/2016</td>\n      <td>46</td>\n      <td>28</td>\n      <td>52</td>\n      <td>29.90</td>\n      <td>10</td>\n      <td>5.0</td>\n      <td>0</td>\n      <td>0</td>\n      <td>NaN</td>\n      <td>241</td>\n    </tr>\n  </tbody>\n</table>\n</div>"
     },
     "metadata": {},
     "output_type": "execute_result",
     "execution_count": 12
    }
   ],
   "source": [
    "df.tail()"
   ],
   "metadata": {
    "collapsed": false,
    "pycharm": {
     "name": "#%%\n",
     "is_executing": false
    }
   }
  },
  {
   "cell_type": "code",
   "execution_count": 13,
   "outputs": [
    {
     "data": {
      "text/plain": "Index(['EST', 'Temperature', 'DewPoint', 'Humidity', 'Sea Level PressureIn',\n       'VisibilityMiles', 'WindSpeedMPH', 'PrecipitationIn', 'CloudCover',\n       'Events', 'WindDirDegrees'],\n      dtype='object')"
     },
     "metadata": {},
     "output_type": "execute_result",
     "execution_count": 13
    }
   ],
   "source": [
    "df.columns"
   ],
   "metadata": {
    "collapsed": false,
    "pycharm": {
     "name": "#%%\n",
     "is_executing": false
    }
   }
  },
  {
   "cell_type": "code",
   "execution_count": 14,
   "outputs": [
    {
     "data": {
      "text/plain": "0     38\n1     36\n2     40\n3     25\n4     20\n5     33\n6     39\n7     39\n8     44\n9     50\n10    33\n11    35\n12    26\n13    30\n14    43\n15    47\n16    36\n17    25\n18    22\n19    32\n20    31\n21    26\n22    26\n23    28\n24    34\n25    43\n26    41\n27    37\n28    36\n29    34\n30    46\nName: Temperature, dtype: int64"
     },
     "metadata": {},
     "output_type": "execute_result",
     "execution_count": 14
    }
   ],
   "source": [
    "df.Temperature"
   ],
   "metadata": {
    "collapsed": false,
    "pycharm": {
     "name": "#%%\n",
     "is_executing": false
    }
   }
  },
  {
   "cell_type": "code",
   "execution_count": 17,
   "outputs": [
    {
     "data": {
      "text/plain": "    Temperature    Events\n0            38       NaN\n1            36       NaN\n2            40       NaN\n3            25       NaN\n4            20       NaN\n5            33       NaN\n6            39       NaN\n7            39       NaN\n8            44      Rain\n9            50      Rain\n10           33       NaN\n11           35       NaN\n12           26       NaN\n13           30       NaN\n14           43       NaN\n15           47      Rain\n16           36  Fog-Snow\n17           25      Snow\n18           22       NaN\n19           32       NaN\n20           31       NaN\n21           26      Snow\n22           26  Fog-Snow\n23           28      Snow\n24           34       NaN\n25           43       NaN\n26           41      Rain\n27           37       NaN\n28           36       NaN\n29           34       NaN\n30           46       NaN",
      "text/html": "<div>\n<style scoped>\n    .dataframe tbody tr th:only-of-type {\n        vertical-align: middle;\n    }\n\n    .dataframe tbody tr th {\n        vertical-align: top;\n    }\n\n    .dataframe thead th {\n        text-align: right;\n    }\n</style>\n<table border=\"1\" class=\"dataframe\">\n  <thead>\n    <tr style=\"text-align: right;\">\n      <th></th>\n      <th>Temperature</th>\n      <th>Events</th>\n    </tr>\n  </thead>\n  <tbody>\n    <tr>\n      <th>0</th>\n      <td>38</td>\n      <td>NaN</td>\n    </tr>\n    <tr>\n      <th>1</th>\n      <td>36</td>\n      <td>NaN</td>\n    </tr>\n    <tr>\n      <th>2</th>\n      <td>40</td>\n      <td>NaN</td>\n    </tr>\n    <tr>\n      <th>3</th>\n      <td>25</td>\n      <td>NaN</td>\n    </tr>\n    <tr>\n      <th>4</th>\n      <td>20</td>\n      <td>NaN</td>\n    </tr>\n    <tr>\n      <th>5</th>\n      <td>33</td>\n      <td>NaN</td>\n    </tr>\n    <tr>\n      <th>6</th>\n      <td>39</td>\n      <td>NaN</td>\n    </tr>\n    <tr>\n      <th>7</th>\n      <td>39</td>\n      <td>NaN</td>\n    </tr>\n    <tr>\n      <th>8</th>\n      <td>44</td>\n      <td>Rain</td>\n    </tr>\n    <tr>\n      <th>9</th>\n      <td>50</td>\n      <td>Rain</td>\n    </tr>\n    <tr>\n      <th>10</th>\n      <td>33</td>\n      <td>NaN</td>\n    </tr>\n    <tr>\n      <th>11</th>\n      <td>35</td>\n      <td>NaN</td>\n    </tr>\n    <tr>\n      <th>12</th>\n      <td>26</td>\n      <td>NaN</td>\n    </tr>\n    <tr>\n      <th>13</th>\n      <td>30</td>\n      <td>NaN</td>\n    </tr>\n    <tr>\n      <th>14</th>\n      <td>43</td>\n      <td>NaN</td>\n    </tr>\n    <tr>\n      <th>15</th>\n      <td>47</td>\n      <td>Rain</td>\n    </tr>\n    <tr>\n      <th>16</th>\n      <td>36</td>\n      <td>Fog-Snow</td>\n    </tr>\n    <tr>\n      <th>17</th>\n      <td>25</td>\n      <td>Snow</td>\n    </tr>\n    <tr>\n      <th>18</th>\n      <td>22</td>\n      <td>NaN</td>\n    </tr>\n    <tr>\n      <th>19</th>\n      <td>32</td>\n      <td>NaN</td>\n    </tr>\n    <tr>\n      <th>20</th>\n      <td>31</td>\n      <td>NaN</td>\n    </tr>\n    <tr>\n      <th>21</th>\n      <td>26</td>\n      <td>Snow</td>\n    </tr>\n    <tr>\n      <th>22</th>\n      <td>26</td>\n      <td>Fog-Snow</td>\n    </tr>\n    <tr>\n      <th>23</th>\n      <td>28</td>\n      <td>Snow</td>\n    </tr>\n    <tr>\n      <th>24</th>\n      <td>34</td>\n      <td>NaN</td>\n    </tr>\n    <tr>\n      <th>25</th>\n      <td>43</td>\n      <td>NaN</td>\n    </tr>\n    <tr>\n      <th>26</th>\n      <td>41</td>\n      <td>Rain</td>\n    </tr>\n    <tr>\n      <th>27</th>\n      <td>37</td>\n      <td>NaN</td>\n    </tr>\n    <tr>\n      <th>28</th>\n      <td>36</td>\n      <td>NaN</td>\n    </tr>\n    <tr>\n      <th>29</th>\n      <td>34</td>\n      <td>NaN</td>\n    </tr>\n    <tr>\n      <th>30</th>\n      <td>46</td>\n      <td>NaN</td>\n    </tr>\n  </tbody>\n</table>\n</div>"
     },
     "metadata": {},
     "output_type": "execute_result",
     "execution_count": 17
    }
   ],
   "source": [
    "df[['Temperature','Events']]"
   ],
   "metadata": {
    "collapsed": false,
    "pycharm": {
     "name": "#%%\n",
     "is_executing": false
    }
   }
  },
  {
   "cell_type": "code",
   "execution_count": 19,
   "outputs": [
    {
     "data": {
      "text/plain": "9    1/10/2016\nName: EST, dtype: object"
     },
     "metadata": {},
     "output_type": "execute_result",
     "execution_count": 19
    }
   ],
   "source": [
    "df.EST[df['Temperature']==df['Temperature'].max()]"
   ],
   "metadata": {
    "collapsed": false,
    "pycharm": {
     "name": "#%%\n",
     "is_executing": false
    }
   }
  },
  {
   "cell_type": "code",
   "execution_count": 20,
   "outputs": [],
   "source": [
    " \n",
    "# How to write csv file.\n",
    "df.to_csv(\"newCsv\")"
   ],
   "metadata": {
    "collapsed": false,
    "pycharm": {
     "name": "#%%\n",
     "is_executing": false
    }
   }
  },
  {
   "cell_type": "code",
   "execution_count": 27,
   "outputs": [],
   "source": [
    "# Above method will print with the indices.\n",
    "# But what if i don't want to print indices->\n",
    "df = pd.read_csv('nyc_weather.csv')\n",
    "df\n",
    "df.to_csv('newCsvWithoutIndices',index = False)"
   ],
   "metadata": {
    "collapsed": false,
    "pycharm": {
     "name": "#%%\n",
     "is_executing": false
    }
   }
  },
  {
   "cell_type": "code",
   "execution_count": 30,
   "outputs": [
    {
     "data": {
      "text/plain": "          day      city  temperature  windspeed   event\n0  2017-01-01  new york           32          6    Rain\n1  2017-01-02  new york           36          7   Sunny\n2  2017-01-03  new york           28         12    Snow\n3  2017-01-04  new york           33          7   Sunny\n4  2017-01-01    mumbai           90          5   Sunny\n5  2017-01-02    mumbai           85         12     Fog\n6  2017-01-03    mumbai           87         15     Fog\n7  2017-01-04    mumbai           92          5    Rain\n8  2017-01-01     paris           45         20   Sunny\n9  2017-01-02     paris           50         13  Cloudy\n10 2017-01-03     paris           54          8  Cloudy\n11 2017-01-04     paris           42         10  Cloudy",
      "text/html": "<div>\n<style scoped>\n    .dataframe tbody tr th:only-of-type {\n        vertical-align: middle;\n    }\n\n    .dataframe tbody tr th {\n        vertical-align: top;\n    }\n\n    .dataframe thead th {\n        text-align: right;\n    }\n</style>\n<table border=\"1\" class=\"dataframe\">\n  <thead>\n    <tr style=\"text-align: right;\">\n      <th></th>\n      <th>day</th>\n      <th>city</th>\n      <th>temperature</th>\n      <th>windspeed</th>\n      <th>event</th>\n    </tr>\n  </thead>\n  <tbody>\n    <tr>\n      <th>0</th>\n      <td>2017-01-01</td>\n      <td>new york</td>\n      <td>32</td>\n      <td>6</td>\n      <td>Rain</td>\n    </tr>\n    <tr>\n      <th>1</th>\n      <td>2017-01-02</td>\n      <td>new york</td>\n      <td>36</td>\n      <td>7</td>\n      <td>Sunny</td>\n    </tr>\n    <tr>\n      <th>2</th>\n      <td>2017-01-03</td>\n      <td>new york</td>\n      <td>28</td>\n      <td>12</td>\n      <td>Snow</td>\n    </tr>\n    <tr>\n      <th>3</th>\n      <td>2017-01-04</td>\n      <td>new york</td>\n      <td>33</td>\n      <td>7</td>\n      <td>Sunny</td>\n    </tr>\n    <tr>\n      <th>4</th>\n      <td>2017-01-01</td>\n      <td>mumbai</td>\n      <td>90</td>\n      <td>5</td>\n      <td>Sunny</td>\n    </tr>\n    <tr>\n      <th>5</th>\n      <td>2017-01-02</td>\n      <td>mumbai</td>\n      <td>85</td>\n      <td>12</td>\n      <td>Fog</td>\n    </tr>\n    <tr>\n      <th>6</th>\n      <td>2017-01-03</td>\n      <td>mumbai</td>\n      <td>87</td>\n      <td>15</td>\n      <td>Fog</td>\n    </tr>\n    <tr>\n      <th>7</th>\n      <td>2017-01-04</td>\n      <td>mumbai</td>\n      <td>92</td>\n      <td>5</td>\n      <td>Rain</td>\n    </tr>\n    <tr>\n      <th>8</th>\n      <td>2017-01-01</td>\n      <td>paris</td>\n      <td>45</td>\n      <td>20</td>\n      <td>Sunny</td>\n    </tr>\n    <tr>\n      <th>9</th>\n      <td>2017-01-02</td>\n      <td>paris</td>\n      <td>50</td>\n      <td>13</td>\n      <td>Cloudy</td>\n    </tr>\n    <tr>\n      <th>10</th>\n      <td>2017-01-03</td>\n      <td>paris</td>\n      <td>54</td>\n      <td>8</td>\n      <td>Cloudy</td>\n    </tr>\n    <tr>\n      <th>11</th>\n      <td>2017-01-04</td>\n      <td>paris</td>\n      <td>42</td>\n      <td>10</td>\n      <td>Cloudy</td>\n    </tr>\n  </tbody>\n</table>\n</div>"
     },
     "metadata": {},
     "output_type": "execute_result",
     "execution_count": 30
    }
   ],
   "source": [
    "# Working with excel files.\n",
    "df = pd.read_excel('weather_data_cities.xlsx')\n",
    "df\n"
   ],
   "metadata": {
    "collapsed": false,
    "pycharm": {
     "name": "#%%\n",
     "is_executing": false
    }
   }
  },
  {
   "cell_type": "code",
   "execution_count": 35,
   "outputs": [
    {
     "data": {
      "text/plain": "<pandas.core.groupby.generic.DataFrameGroupBy object at 0x7fa1c53e8550>"
     },
     "metadata": {},
     "output_type": "execute_result",
     "execution_count": 35
    }
   ],
   "source": [
    "# Group by function in pandas.\n",
    "g = df.groupby('city')\n",
    "g"
   ],
   "metadata": {
    "collapsed": false,
    "pycharm": {
     "name": "#%%\n",
     "is_executing": false
    }
   }
  },
  {
   "cell_type": "code",
   "execution_count": 36,
   "outputs": [
    {
     "name": "stdout",
     "text": [
      "mumbai\n",
      "         day    city  temperature  windspeed  event\n",
      "4 2017-01-01  mumbai           90          5  Sunny\n",
      "5 2017-01-02  mumbai           85         12    Fog\n",
      "6 2017-01-03  mumbai           87         15    Fog\n",
      "7 2017-01-04  mumbai           92          5   Rain\n",
      "new york\n",
      "         day      city  temperature  windspeed  event\n",
      "0 2017-01-01  new york           32          6   Rain\n",
      "1 2017-01-02  new york           36          7  Sunny\n",
      "2 2017-01-03  new york           28         12   Snow\n",
      "3 2017-01-04  new york           33          7  Sunny\n",
      "paris\n",
      "          day   city  temperature  windspeed   event\n",
      "8  2017-01-01  paris           45         20   Sunny\n",
      "9  2017-01-02  paris           50         13  Cloudy\n",
      "10 2017-01-03  paris           54          8  Cloudy\n",
      "11 2017-01-04  paris           42         10  Cloudy\n"
     ],
     "output_type": "stream"
    }
   ],
   "source": [
    "for city , df in g:\n",
    "    print(city)\n",
    "    print(df)\n",
    "\n"
   ],
   "metadata": {
    "collapsed": false,
    "pycharm": {
     "name": "#%%\n",
     "is_executing": false
    }
   }
  },
  {
   "cell_type": "code",
   "execution_count": 37,
   "outputs": [
    {
     "data": {
      "text/plain": "         temperature                                                   \\\n               count   mean       std   min    25%   50%    75%   max   \ncity                                                                    \nmumbai           4.0  88.50  3.109126  85.0  86.50  88.5  90.50  92.0   \nnew york         4.0  32.25  3.304038  28.0  31.00  32.5  33.75  36.0   \nparis            4.0  47.75  5.315073  42.0  44.25  47.5  51.00  54.0   \n\n         windspeed                                                 \n             count   mean       std  min   25%   50%    75%   max  \ncity                                                               \nmumbai         4.0   9.25  5.057997  5.0  5.00   8.5  12.75  15.0  \nnew york       4.0   8.00  2.708013  6.0  6.75   7.0   8.25  12.0  \nparis          4.0  12.75  5.251984  8.0  9.50  11.5  14.75  20.0  ",
      "text/html": "<div>\n<style scoped>\n    .dataframe tbody tr th:only-of-type {\n        vertical-align: middle;\n    }\n\n    .dataframe tbody tr th {\n        vertical-align: top;\n    }\n\n    .dataframe thead tr th {\n        text-align: left;\n    }\n\n    .dataframe thead tr:last-of-type th {\n        text-align: right;\n    }\n</style>\n<table border=\"1\" class=\"dataframe\">\n  <thead>\n    <tr>\n      <th></th>\n      <th colspan=\"8\" halign=\"left\">temperature</th>\n      <th colspan=\"8\" halign=\"left\">windspeed</th>\n    </tr>\n    <tr>\n      <th></th>\n      <th>count</th>\n      <th>mean</th>\n      <th>std</th>\n      <th>min</th>\n      <th>25%</th>\n      <th>50%</th>\n      <th>75%</th>\n      <th>max</th>\n      <th>count</th>\n      <th>mean</th>\n      <th>std</th>\n      <th>min</th>\n      <th>25%</th>\n      <th>50%</th>\n      <th>75%</th>\n      <th>max</th>\n    </tr>\n    <tr>\n      <th>city</th>\n      <th></th>\n      <th></th>\n      <th></th>\n      <th></th>\n      <th></th>\n      <th></th>\n      <th></th>\n      <th></th>\n      <th></th>\n      <th></th>\n      <th></th>\n      <th></th>\n      <th></th>\n      <th></th>\n      <th></th>\n      <th></th>\n    </tr>\n  </thead>\n  <tbody>\n    <tr>\n      <th>mumbai</th>\n      <td>4.0</td>\n      <td>88.50</td>\n      <td>3.109126</td>\n      <td>85.0</td>\n      <td>86.50</td>\n      <td>88.5</td>\n      <td>90.50</td>\n      <td>92.0</td>\n      <td>4.0</td>\n      <td>9.25</td>\n      <td>5.057997</td>\n      <td>5.0</td>\n      <td>5.00</td>\n      <td>8.5</td>\n      <td>12.75</td>\n      <td>15.0</td>\n    </tr>\n    <tr>\n      <th>new york</th>\n      <td>4.0</td>\n      <td>32.25</td>\n      <td>3.304038</td>\n      <td>28.0</td>\n      <td>31.00</td>\n      <td>32.5</td>\n      <td>33.75</td>\n      <td>36.0</td>\n      <td>4.0</td>\n      <td>8.00</td>\n      <td>2.708013</td>\n      <td>6.0</td>\n      <td>6.75</td>\n      <td>7.0</td>\n      <td>8.25</td>\n      <td>12.0</td>\n    </tr>\n    <tr>\n      <th>paris</th>\n      <td>4.0</td>\n      <td>47.75</td>\n      <td>5.315073</td>\n      <td>42.0</td>\n      <td>44.25</td>\n      <td>47.5</td>\n      <td>51.00</td>\n      <td>54.0</td>\n      <td>4.0</td>\n      <td>12.75</td>\n      <td>5.251984</td>\n      <td>8.0</td>\n      <td>9.50</td>\n      <td>11.5</td>\n      <td>14.75</td>\n      <td>20.0</td>\n    </tr>\n  </tbody>\n</table>\n</div>"
     },
     "metadata": {},
     "output_type": "execute_result",
     "execution_count": 37
    }
   ],
   "source": [
    "g.describe()"
   ],
   "metadata": {
    "collapsed": false,
    "pycharm": {
     "name": "#%%\n",
     "is_executing": false
    }
   }
  },
  {
   "cell_type": "code",
   "execution_count": 38,
   "outputs": [
    {
     "data": {
      "text/plain": "          temperature  windspeed\ncity                            \nmumbai          88.50       9.25\nnew york        32.25       8.00\nparis           47.75      12.75",
      "text/html": "<div>\n<style scoped>\n    .dataframe tbody tr th:only-of-type {\n        vertical-align: middle;\n    }\n\n    .dataframe tbody tr th {\n        vertical-align: top;\n    }\n\n    .dataframe thead th {\n        text-align: right;\n    }\n</style>\n<table border=\"1\" class=\"dataframe\">\n  <thead>\n    <tr style=\"text-align: right;\">\n      <th></th>\n      <th>temperature</th>\n      <th>windspeed</th>\n    </tr>\n    <tr>\n      <th>city</th>\n      <th></th>\n      <th></th>\n    </tr>\n  </thead>\n  <tbody>\n    <tr>\n      <th>mumbai</th>\n      <td>88.50</td>\n      <td>9.25</td>\n    </tr>\n    <tr>\n      <th>new york</th>\n      <td>32.25</td>\n      <td>8.00</td>\n    </tr>\n    <tr>\n      <th>paris</th>\n      <td>47.75</td>\n      <td>12.75</td>\n    </tr>\n  </tbody>\n</table>\n</div>"
     },
     "metadata": {},
     "output_type": "execute_result",
     "execution_count": 38
    }
   ],
   "source": [
    "g.mean()"
   ],
   "metadata": {
    "collapsed": false,
    "pycharm": {
     "name": "#%%\n",
     "is_executing": false
    }
   }
  },
  {
   "cell_type": "code",
   "execution_count": 39,
   "outputs": [
    {
     "data": {
      "text/plain": "         day  temperature  windspeed  event\n0 2017-01-01           32          6   Rain\n1 2017-01-02           36          7  Sunny\n2 2017-01-03           28         12   Snow\n3 2017-01-04           33          7  Sunny",
      "text/html": "<div>\n<style scoped>\n    .dataframe tbody tr th:only-of-type {\n        vertical-align: middle;\n    }\n\n    .dataframe tbody tr th {\n        vertical-align: top;\n    }\n\n    .dataframe thead th {\n        text-align: right;\n    }\n</style>\n<table border=\"1\" class=\"dataframe\">\n  <thead>\n    <tr style=\"text-align: right;\">\n      <th></th>\n      <th>day</th>\n      <th>temperature</th>\n      <th>windspeed</th>\n      <th>event</th>\n    </tr>\n  </thead>\n  <tbody>\n    <tr>\n      <th>0</th>\n      <td>2017-01-01</td>\n      <td>32</td>\n      <td>6</td>\n      <td>Rain</td>\n    </tr>\n    <tr>\n      <th>1</th>\n      <td>2017-01-02</td>\n      <td>36</td>\n      <td>7</td>\n      <td>Sunny</td>\n    </tr>\n    <tr>\n      <th>2</th>\n      <td>2017-01-03</td>\n      <td>28</td>\n      <td>12</td>\n      <td>Snow</td>\n    </tr>\n    <tr>\n      <th>3</th>\n      <td>2017-01-04</td>\n      <td>33</td>\n      <td>7</td>\n      <td>Sunny</td>\n    </tr>\n  </tbody>\n</table>\n</div>"
     },
     "metadata": {},
     "output_type": "execute_result",
     "execution_count": 39
    }
   ],
   "source": [
    "g.get_group('new york')"
   ],
   "metadata": {
    "collapsed": false,
    "pycharm": {
     "name": "#%%\n",
     "is_executing": false
    }
   }
  },
  {
   "cell_type": "code",
   "execution_count": 40,
   "outputs": [
    {
     "data": {
      "text/plain": "                day  temperature  windspeed  event\ncity                                              \nmumbai   2017-01-04           92         15  Sunny\nnew york 2017-01-04           36         12  Sunny\nparis    2017-01-04           54         20  Sunny",
      "text/html": "<div>\n<style scoped>\n    .dataframe tbody tr th:only-of-type {\n        vertical-align: middle;\n    }\n\n    .dataframe tbody tr th {\n        vertical-align: top;\n    }\n\n    .dataframe thead th {\n        text-align: right;\n    }\n</style>\n<table border=\"1\" class=\"dataframe\">\n  <thead>\n    <tr style=\"text-align: right;\">\n      <th></th>\n      <th>day</th>\n      <th>temperature</th>\n      <th>windspeed</th>\n      <th>event</th>\n    </tr>\n    <tr>\n      <th>city</th>\n      <th></th>\n      <th></th>\n      <th></th>\n      <th></th>\n    </tr>\n  </thead>\n  <tbody>\n    <tr>\n      <th>mumbai</th>\n      <td>2017-01-04</td>\n      <td>92</td>\n      <td>15</td>\n      <td>Sunny</td>\n    </tr>\n    <tr>\n      <th>new york</th>\n      <td>2017-01-04</td>\n      <td>36</td>\n      <td>12</td>\n      <td>Sunny</td>\n    </tr>\n    <tr>\n      <th>paris</th>\n      <td>2017-01-04</td>\n      <td>54</td>\n      <td>20</td>\n      <td>Sunny</td>\n    </tr>\n  </tbody>\n</table>\n</div>"
     },
     "metadata": {},
     "output_type": "execute_result",
     "execution_count": 40
    }
   ],
   "source": [
    "g.max()\n",
    "\n"
   ],
   "metadata": {
    "collapsed": false,
    "pycharm": {
     "name": "#%%\n",
     "is_executing": false
    }
   }
  }
 ],
 "metadata": {
  "kernelspec": {
   "display_name": "Python 3",
   "language": "python",
   "name": "python3"
  },
  "language_info": {
   "codemirror_mode": {
    "name": "ipython",
    "version": 2
   },
   "file_extension": ".py",
   "mimetype": "text/x-python",
   "name": "python",
   "nbconvert_exporter": "python",
   "pygments_lexer": "ipython2",
   "version": "2.7.6"
  },
  "pycharm": {
   "stem_cell": {
    "cell_type": "raw",
    "source": [],
    "metadata": {
     "collapsed": false
    }
   }
  }
 },
 "nbformat": 4,
 "nbformat_minor": 0
}